{
 "cells": [
  {
   "cell_type": "markdown",
   "metadata": {},
   "source": [
    "<p style=\"text-align:center\">\n",
    "    <a href=\"https://skills.network/?utm_medium=Exinfluencer&utm_source=Exinfluencer&utm_content=000026UJ&utm_term=10006555&utm_id=NA-SkillsNetwork-Channel-SkillsNetworkCoursesIBMDeveloperSkillsNetworkST0151ENSkillsNetwork20531532-2022-01-01\" target=\"_blank\">\n",
    "    <img src=\"https://cf-courses-data.s3.us.cloud-object-storage.appdomain.cloud/assets/logos/SN_web_lightmode.png\" width=\"200\" alt=\"Skills Network Logo\"  />\n",
    "    </a>\n",
    "</p>\n"
   ]
  },
  {
   "cell_type": "markdown",
   "metadata": {},
   "source": [
    "#  Statistics for Data Science with Python\n",
    "##  Final Project:  Insights in Boston real estate - Statistical analysis. \n",
    "\n",
    "#### Stephane Dedieu, November 2022\n",
    "\n",
    "\n",
    "\n",
    "IBM Skills Network"
   ]
  },
  {
   "cell_type": "markdown",
   "metadata": {},
   "source": [
    "<p style=\"text-align:center\">\n",
    "    <img src=\"https://upload.wikimedia.org/wikipedia/commons/thumb/c/ca/Boston_skyline_from_Longfellow_Bridge_September_2017_panorama_2.jpg/1280px-Boston_skyline_from_Longfellow_Bridge_September_2017_panorama_2.jpg\" width=\"800\" alt=\"Boston: Back Bay\"  />\n",
    "\n",
    "</p>\n",
    "  \n",
    "<center> <i> <b> Back Bay from the Charles river (Wikimedia Commons) </b> </i> from  https://en.wikipedia.org/wiki/Boston   "
   ]
  },
  {
   "cell_type": "markdown",
   "metadata": {},
   "source": [
    " \n",
    "\n",
    "<div class=\"alert alert-block alert-info\" style=\"margin-top: 20px\">\n",
    "<b>Note: No IBM cloud account. We will not use IBM Watson Studio.   <br>\n",
    "<b>This Jupyter notebook will be shared on GitHub. \n",
    "</div>\n",
    "<br>\n",
    "<hr>"
   ]
  },
  {
   "cell_type": "markdown",
   "metadata": {},
   "source": [
    "<div class=\"alert alert-block alert-info\" style=\"margin-top: 20px\">\n",
    "\n",
    "## Table of Contents\n",
    "* [I -  Introduction](#chapter1)\n",
    "\n",
    "* [II -  Data Wrangling](#chapter2)\n",
    "\n",
    "* [III -  Exploratory Data Analysis (EDA)](#chapter3)\n",
    "    * [III.1 - Boston, MA, USA](#section_3_1)\n",
    "    * [III.2 - Statistics on Data](#section_3_2)\n",
    "    * [III.3 - Features correlated with Home Median Values (MEDV)](#section_3_3)\n",
    "    \n",
    "* [IV - Descriptive Statistics](#chapter4)\n",
    "    * [IV.1 - Median value of owner-occupied homes](#section_4_1)\n",
    "    * [IV.2 -  Charles river variable ](#section_4_2)\n",
    "    * [IV.3 -  MEDV variable vs the AGE variable.](#section_4_3)\n",
    "    * [IV.4 -  Nitric oxide concentrations v. non-retail business acres per town.](#section_4_4)\n",
    "    * [IV.5 - Pupil to teacher ratio variable](#section_4_5)\n",
    "\n",
    "* [V -  Statistical Analysis](#chapter5)\n",
    "    * [V.1 -  Median value of houses bounded by the Charles river](#section_5_1)\n",
    "    * [V.2 -  Median values of houses (MEDV) per age group](#section_5_2)\n",
    "    * [V.3 -  Nitric oxide concentrations v. non-retail business acres per town](#section_5_3)\n",
    "    * [V.4 - Impact of Distance to Boston employment centres on MEDV](#section_5_4)\n",
    "    \n",
    "* [VI -  Conclusions](#chapter6)\n",
    "* [VII -  Appendix](#chapter7)\n",
    "\n",
    "</div>"
   ]
  },
  {
   "cell_type": "markdown",
   "metadata": {},
   "source": [
    "# I - INTRODUCTION  <a class=\"anchor\" id=\"chapter1\"></a>"
   ]
  },
  {
   "cell_type": "markdown",
   "metadata": {},
   "source": [
    "## Project Case Scenario\n",
    "\n",
    "**Project Scenario:** You are a Data Scientist with a housing agency in Boston MA, you have been given access to a previous dataset on housing prices derived from the U.S. Census Service to present insights to higher management. Based on your experience in Statistics, what information can you provide them to help with making an informed decision? Upper management will like to get some insight into the following: <br>\n",
    "\n",
    "   * Is there a significant difference in the median value of houses bounded by the Charles river or not? \n",
    "   * Is there a difference in median values of houses of each proportion of owner-occupied units built before 1940? \n",
    "   * Can we conclude that there is no relationship between Nitric oxide concentrations and the proportion of non-retail  business acres per town? \n",
    "   * What is the impact of an additional weighted distance to the five Boston employment centres on the median value of owner-occupied homes?  \n",
    "        \n",
    "Using the appropriate graphs and charts, generate basic statistics and visualizations that you think will be useful for the upper management to give them important insight given the question they are asking, in your graphs, include an explanation of each statistic.   <br>\n",
    "Details regarding the project will be broken down in the next reading sections.\n",
    "\n",
    "\n",
    "\n",
    "\n",
    "\n"
   ]
  },
  {
   "cell_type": "markdown",
   "metadata": {},
   "source": [
    "## Overview of Project Tasks\n",
    "Final Project: For the project scenario, here is an overview of your tasks. The following reading sections will provide you with detailed instructions for each task.\n",
    "Project Tasks:\n",
    "* Task 1: Familiarize yourself with the dataset \n",
    "* Task 2: (Optional) If you do not already have an instance of Watson Studio, create an IBM Cloud Lite account and provision an instance of Waston Studio.\n",
    "* Task 3: Load the dataset in a Jupyter Notebook using Watson Studio.\n",
    "* Task 4: Generate basic statistics and visualizations for upper management. \n",
    "* Task 5: Use the appropriate tests to answer the questions provided.\n",
    "* Task 6: Share your Jupyter Notebook.\n",
    "This project is worth 15% of your final grade. Detailed instructions for each of these tasks follow."
   ]
  },
  {
   "cell_type": "markdown",
   "metadata": {},
   "source": [
    "### Task 1: Become familiar with the dataset\n",
    "\n",
    "The following describes the dataset variables:\n",
    "   *      CRIM - per capita crime rate by town\n",
    "   *      ZN - proportion of residential land zoned for lots over 25,000 sq.ft.\n",
    "   *      INDUS - proportion of non-retail business acres per town.\n",
    "   *      CHAS - Charles River dummy variable (1 if tract bounds river; 0 otherwise)\n",
    "   *      NOX - nitric oxides concentration (parts per 10 million)\n",
    "   *      RM - average number of rooms per dwelling\n",
    "   *      AGE - proportion of owner-occupied units built prior to 1940\n",
    "   *      DIS - weighted distances to five Boston employment centres\n",
    "   *      RAD - index of accessibility to radial highways\n",
    "   *      TAX - full-value property-tax rate per \\$10,000\n",
    "   *      PTRATIO - pupil-teacher ratio by town\n",
    "   *      LSTAT - % lower status of the population\n",
    "   *      MEDV - Median value of owner-occupied homes in $1000's"
   ]
  },
  {
   "cell_type": "markdown",
   "metadata": {},
   "source": [
    "### Task 4: Generate Descriptive Statistics and Visualizations\n",
    "For all visualizations, please include a title in each graph and appropriate labels\n",
    "Generate the following and explain your findings:\n",
    "    • For the \"Median value of owner-occupied homes\" provide a boxplot\n",
    "    • Provide a bar plot for the Charles river variable\n",
    "    • Provide a boxplot for the MEDV variable vs the AGE variable. (Discretize the age variable into three groups of 35 years and younger, between 35 and 70 years and 70 years and older)\n",
    "    • Provide a scatter plot to show the relationship between Nitric oxide concentrations and the proportion of non-retail business acres per town. What can you say about the relationship?\n",
    "    • Create a histogram for the pupil to teacher ratio variable  \n",
    "    <br>\n",
    "\n",
    "\n",
    "###  Task 5: Use the appropriate tests to answer the questions provided.\n",
    "For each of the following questions;\n",
    "    • Is there a significant difference in median value of houses bounded by the Charles river or not? (T-test for independent samples)\n",
    "    • Is there a difference in Median values of houses (MEDV) for each proportion of owner occupied units built prior to 1940 (AGE)? (ANOVA)\n",
    "    • Can we conclude that there is no relationship between Nitric oxide concentrations and proportion of non-retail business acres per town? (Pearson Correlation)\n",
    "    • What is the impact of an additional weighted distance to the five Boston employment centres on the median value of owner occupied homes? (Regression analysis)\n",
    "Be sure to:\n",
    "    1. State your hypothesis.\n",
    "    2. Use α = 0.05\n",
    "    3. Perform the test Statistics.\n",
    "    4. State the conclusion from the test."
   ]
  },
  {
   "cell_type": "markdown",
   "metadata": {},
   "source": [
    "## Import Libraries"
   ]
  },
  {
   "cell_type": "code",
   "execution_count": 210,
   "metadata": {},
   "outputs": [
    {
     "data": {
      "text/html": [
       "<style>.container { width:95% !important; }</style>"
      ],
      "text/plain": [
       "<IPython.core.display.HTML object>"
      ]
     },
     "metadata": {},
     "output_type": "display_data"
    },
    {
     "data": {
      "text/html": [
       "\n",
       "<style>\n",
       ".output_png {\n",
       "    display: table-cell;\n",
       "    text-align: center;\n",
       "    vertical-align: middle;\n",
       "}\n",
       "</style>\n"
      ],
      "text/plain": [
       "<IPython.core.display.HTML object>"
      ]
     },
     "execution_count": 210,
     "metadata": {},
     "output_type": "execute_result"
    }
   ],
   "source": [
    "#--------------------------------------------\n",
    "# Notebook wide presentation\n",
    "#--------------------------------------------\n",
    "from IPython.display import display, HTML\n",
    "display(HTML(\"<style>.container { width:95% !important; }</style>\"))\n",
    "\n",
    "#-------  For centering figures \n",
    "from IPython.core.display import HTML\n",
    "HTML(\"\"\"\n",
    "<style>\n",
    ".output_png {\n",
    "    display: table-cell;\n",
    "    text-align: center;\n",
    "    vertical-align: middle;\n",
    "}\n",
    "</style>\n",
    "\"\"\")"
   ]
  },
  {
   "cell_type": "code",
   "execution_count": 211,
   "metadata": {},
   "outputs": [],
   "source": [
    "# For displaying datafrme side by side... \n",
    "from IPython.display import display_html\n",
    "from itertools import chain,cycle\n",
    "def display_side_by_side(*args,titles=cycle([''])):\n",
    "    html_str=''\n",
    "    for df,title in zip(args, chain(titles,cycle(['</br>'])) ):\n",
    "        html_str+='<th style=\"text-align:center\"><td style=\"vertical-align:top\">'\n",
    "        html_str+=f'<h2 style=\"text-align: center;\">{title}</h2>'\n",
    "        html_str+=df.to_html().replace('table','table style=\"display:inline\"')\n",
    "        html_str+='</td></th>'\n",
    "    display_html(html_str,raw=True)"
   ]
  },
  {
   "cell_type": "code",
   "execution_count": 212,
   "metadata": {},
   "outputs": [],
   "source": [
    "import  scipy.signal.signaltools\n",
    "#  for importing \"statsmodels.api as sm\" we define the following function.  \n",
    "#  Otherwise there is a bug with \"centered\". \n",
    "def _centered(arr, newsize):\n",
    "    # Return the center newsize portion of the array.\n",
    "    newsize = np.asarray(newsize)\n",
    "    currsize = np.array(arr.shape)\n",
    "    startind = (currsize - newsize) // 2\n",
    "    endind = startind + newsize\n",
    "    myslice = [slice(startind[k], endind[k]) for k in range(len(endind))]\n",
    "    return arr[tuple(myslice)]\n",
    "\n",
    "scipy.signal.signaltools._centered = _centered"
   ]
  },
  {
   "cell_type": "code",
   "execution_count": 213,
   "metadata": {},
   "outputs": [],
   "source": [
    "import pandas as pd\n",
    "import numpy as np\n",
    "import matplotlib.pyplot as plt\n",
    "import seaborn as sns\n",
    "import scipy.stats\n",
    "import statsmodels.api as sm"
   ]
  },
  {
   "cell_type": "code",
   "execution_count": 214,
   "metadata": {},
   "outputs": [],
   "source": [
    "from prettytable import PrettyTable\n",
    "from tabulate import tabulate\n",
    "from prettytable import MSWORD_FRIENDLY, PLAIN_COLUMNS, DEFAULT\n",
    "from prettytable import ALL, FRAME"
   ]
  },
  {
   "cell_type": "code",
   "execution_count": 215,
   "metadata": {},
   "outputs": [],
   "source": [
    "#Load in the Dataset in your Jupyter Notebook\n",
    "#In the Jupyter notebook you created in the previous task, add a code cell, and copy the contents below to load the Boston housing dataset in the notebook:\n",
    "\n",
    "boston_url='https://cf-courses-data.s3.us.cloud-object-storage.appdomain.cloud/IBMDeveloperSkillsNetwork-ST0151EN-SkillsNetwork/labs/boston_housing.csv'\n",
    "boston_df=pd.read_csv(boston_url)\n"
   ]
  },
  {
   "cell_type": "code",
   "execution_count": 216,
   "metadata": {},
   "outputs": [
    {
     "data": {
      "text/html": [
       "<div>\n",
       "<style scoped>\n",
       "    .dataframe tbody tr th:only-of-type {\n",
       "        vertical-align: middle;\n",
       "    }\n",
       "\n",
       "    .dataframe tbody tr th {\n",
       "        vertical-align: top;\n",
       "    }\n",
       "\n",
       "    .dataframe thead th {\n",
       "        text-align: right;\n",
       "    }\n",
       "</style>\n",
       "<table border=\"1\" class=\"dataframe\">\n",
       "  <thead>\n",
       "    <tr style=\"text-align: right;\">\n",
       "      <th></th>\n",
       "      <th>Unnamed: 0</th>\n",
       "      <th>CRIM</th>\n",
       "      <th>ZN</th>\n",
       "      <th>INDUS</th>\n",
       "      <th>CHAS</th>\n",
       "      <th>NOX</th>\n",
       "      <th>RM</th>\n",
       "      <th>AGE</th>\n",
       "      <th>DIS</th>\n",
       "      <th>RAD</th>\n",
       "      <th>TAX</th>\n",
       "      <th>PTRATIO</th>\n",
       "      <th>LSTAT</th>\n",
       "      <th>MEDV</th>\n",
       "    </tr>\n",
       "  </thead>\n",
       "  <tbody>\n",
       "    <tr>\n",
       "      <th>0</th>\n",
       "      <td>0</td>\n",
       "      <td>0.00632</td>\n",
       "      <td>18.0</td>\n",
       "      <td>2.31</td>\n",
       "      <td>0.0</td>\n",
       "      <td>0.538</td>\n",
       "      <td>6.575</td>\n",
       "      <td>65.2</td>\n",
       "      <td>4.0900</td>\n",
       "      <td>1.0</td>\n",
       "      <td>296.0</td>\n",
       "      <td>15.3</td>\n",
       "      <td>4.98</td>\n",
       "      <td>24.0</td>\n",
       "    </tr>\n",
       "    <tr>\n",
       "      <th>1</th>\n",
       "      <td>1</td>\n",
       "      <td>0.02731</td>\n",
       "      <td>0.0</td>\n",
       "      <td>7.07</td>\n",
       "      <td>0.0</td>\n",
       "      <td>0.469</td>\n",
       "      <td>6.421</td>\n",
       "      <td>78.9</td>\n",
       "      <td>4.9671</td>\n",
       "      <td>2.0</td>\n",
       "      <td>242.0</td>\n",
       "      <td>17.8</td>\n",
       "      <td>9.14</td>\n",
       "      <td>21.6</td>\n",
       "    </tr>\n",
       "    <tr>\n",
       "      <th>2</th>\n",
       "      <td>2</td>\n",
       "      <td>0.02729</td>\n",
       "      <td>0.0</td>\n",
       "      <td>7.07</td>\n",
       "      <td>0.0</td>\n",
       "      <td>0.469</td>\n",
       "      <td>7.185</td>\n",
       "      <td>61.1</td>\n",
       "      <td>4.9671</td>\n",
       "      <td>2.0</td>\n",
       "      <td>242.0</td>\n",
       "      <td>17.8</td>\n",
       "      <td>4.03</td>\n",
       "      <td>34.7</td>\n",
       "    </tr>\n",
       "    <tr>\n",
       "      <th>3</th>\n",
       "      <td>3</td>\n",
       "      <td>0.03237</td>\n",
       "      <td>0.0</td>\n",
       "      <td>2.18</td>\n",
       "      <td>0.0</td>\n",
       "      <td>0.458</td>\n",
       "      <td>6.998</td>\n",
       "      <td>45.8</td>\n",
       "      <td>6.0622</td>\n",
       "      <td>3.0</td>\n",
       "      <td>222.0</td>\n",
       "      <td>18.7</td>\n",
       "      <td>2.94</td>\n",
       "      <td>33.4</td>\n",
       "    </tr>\n",
       "    <tr>\n",
       "      <th>4</th>\n",
       "      <td>4</td>\n",
       "      <td>0.06905</td>\n",
       "      <td>0.0</td>\n",
       "      <td>2.18</td>\n",
       "      <td>0.0</td>\n",
       "      <td>0.458</td>\n",
       "      <td>7.147</td>\n",
       "      <td>54.2</td>\n",
       "      <td>6.0622</td>\n",
       "      <td>3.0</td>\n",
       "      <td>222.0</td>\n",
       "      <td>18.7</td>\n",
       "      <td>5.33</td>\n",
       "      <td>36.2</td>\n",
       "    </tr>\n",
       "  </tbody>\n",
       "</table>\n",
       "</div>"
      ],
      "text/plain": [
       "   Unnamed: 0     CRIM    ZN  INDUS  CHAS    NOX     RM   AGE     DIS  RAD  \\\n",
       "0           0  0.00632  18.0   2.31   0.0  0.538  6.575  65.2  4.0900  1.0   \n",
       "1           1  0.02731   0.0   7.07   0.0  0.469  6.421  78.9  4.9671  2.0   \n",
       "2           2  0.02729   0.0   7.07   0.0  0.469  7.185  61.1  4.9671  2.0   \n",
       "3           3  0.03237   0.0   2.18   0.0  0.458  6.998  45.8  6.0622  3.0   \n",
       "4           4  0.06905   0.0   2.18   0.0  0.458  7.147  54.2  6.0622  3.0   \n",
       "\n",
       "     TAX  PTRATIO  LSTAT  MEDV  \n",
       "0  296.0     15.3   4.98  24.0  \n",
       "1  242.0     17.8   9.14  21.6  \n",
       "2  242.0     17.8   4.03  34.7  \n",
       "3  222.0     18.7   2.94  33.4  \n",
       "4  222.0     18.7   5.33  36.2  "
      ]
     },
     "execution_count": 216,
     "metadata": {},
     "output_type": "execute_result"
    }
   ],
   "source": [
    "boston_df.head()"
   ]
  },
  {
   "cell_type": "markdown",
   "metadata": {},
   "source": [
    "<span style=\"color:#4169E1\">  There is a frustrating aspect with this data. There is no home location information: latitude, longitude, therefore we will not be able to create maps for visualizing features DIS or CHAS.  \n",
    "\n",
    "    "
   ]
  },
  {
   "cell_type": "markdown",
   "metadata": {},
   "source": [
    "# II -  Data Wrangling  <a class=\"anchor\" id=\"chapter2\"></a>"
   ]
  },
  {
   "cell_type": "markdown",
   "metadata": {},
   "source": [
    "<span style=\"color:#4169E1\">  Data types"
   ]
  },
  {
   "cell_type": "code",
   "execution_count": 217,
   "metadata": {},
   "outputs": [
    {
     "data": {
      "text/plain": [
       "Unnamed: 0      int64\n",
       "CRIM          float64\n",
       "ZN            float64\n",
       "INDUS         float64\n",
       "CHAS          float64\n",
       "NOX           float64\n",
       "RM            float64\n",
       "AGE           float64\n",
       "DIS           float64\n",
       "RAD           float64\n",
       "TAX           float64\n",
       "PTRATIO       float64\n",
       "LSTAT         float64\n",
       "MEDV          float64\n",
       "dtype: object"
      ]
     },
     "execution_count": 217,
     "metadata": {},
     "output_type": "execute_result"
    }
   ],
   "source": [
    "boston_df.dtypes"
   ]
  },
  {
   "cell_type": "markdown",
   "metadata": {},
   "source": [
    "<span style=\"color:#4169E1\">  All data is numerical (real numbers). <br> We drop column  <code>\"Unnamed: 0\"</code> from axis 1. "
   ]
  },
  {
   "cell_type": "code",
   "execution_count": 218,
   "metadata": {},
   "outputs": [
    {
     "data": {
      "text/html": [
       "<div>\n",
       "<style scoped>\n",
       "    .dataframe tbody tr th:only-of-type {\n",
       "        vertical-align: middle;\n",
       "    }\n",
       "\n",
       "    .dataframe tbody tr th {\n",
       "        vertical-align: top;\n",
       "    }\n",
       "\n",
       "    .dataframe thead th {\n",
       "        text-align: right;\n",
       "    }\n",
       "</style>\n",
       "<table border=\"1\" class=\"dataframe\">\n",
       "  <thead>\n",
       "    <tr style=\"text-align: right;\">\n",
       "      <th></th>\n",
       "      <th>CRIM</th>\n",
       "      <th>ZN</th>\n",
       "      <th>INDUS</th>\n",
       "      <th>CHAS</th>\n",
       "      <th>NOX</th>\n",
       "      <th>RM</th>\n",
       "      <th>AGE</th>\n",
       "      <th>DIS</th>\n",
       "      <th>RAD</th>\n",
       "      <th>TAX</th>\n",
       "      <th>PTRATIO</th>\n",
       "      <th>LSTAT</th>\n",
       "      <th>MEDV</th>\n",
       "    </tr>\n",
       "  </thead>\n",
       "  <tbody>\n",
       "    <tr>\n",
       "      <th>0</th>\n",
       "      <td>0.00632</td>\n",
       "      <td>18.0</td>\n",
       "      <td>2.31</td>\n",
       "      <td>0.0</td>\n",
       "      <td>0.538</td>\n",
       "      <td>6.575</td>\n",
       "      <td>65.2</td>\n",
       "      <td>4.0900</td>\n",
       "      <td>1.0</td>\n",
       "      <td>296.0</td>\n",
       "      <td>15.3</td>\n",
       "      <td>4.98</td>\n",
       "      <td>24.0</td>\n",
       "    </tr>\n",
       "    <tr>\n",
       "      <th>1</th>\n",
       "      <td>0.02731</td>\n",
       "      <td>0.0</td>\n",
       "      <td>7.07</td>\n",
       "      <td>0.0</td>\n",
       "      <td>0.469</td>\n",
       "      <td>6.421</td>\n",
       "      <td>78.9</td>\n",
       "      <td>4.9671</td>\n",
       "      <td>2.0</td>\n",
       "      <td>242.0</td>\n",
       "      <td>17.8</td>\n",
       "      <td>9.14</td>\n",
       "      <td>21.6</td>\n",
       "    </tr>\n",
       "    <tr>\n",
       "      <th>2</th>\n",
       "      <td>0.02729</td>\n",
       "      <td>0.0</td>\n",
       "      <td>7.07</td>\n",
       "      <td>0.0</td>\n",
       "      <td>0.469</td>\n",
       "      <td>7.185</td>\n",
       "      <td>61.1</td>\n",
       "      <td>4.9671</td>\n",
       "      <td>2.0</td>\n",
       "      <td>242.0</td>\n",
       "      <td>17.8</td>\n",
       "      <td>4.03</td>\n",
       "      <td>34.7</td>\n",
       "    </tr>\n",
       "    <tr>\n",
       "      <th>3</th>\n",
       "      <td>0.03237</td>\n",
       "      <td>0.0</td>\n",
       "      <td>2.18</td>\n",
       "      <td>0.0</td>\n",
       "      <td>0.458</td>\n",
       "      <td>6.998</td>\n",
       "      <td>45.8</td>\n",
       "      <td>6.0622</td>\n",
       "      <td>3.0</td>\n",
       "      <td>222.0</td>\n",
       "      <td>18.7</td>\n",
       "      <td>2.94</td>\n",
       "      <td>33.4</td>\n",
       "    </tr>\n",
       "    <tr>\n",
       "      <th>4</th>\n",
       "      <td>0.06905</td>\n",
       "      <td>0.0</td>\n",
       "      <td>2.18</td>\n",
       "      <td>0.0</td>\n",
       "      <td>0.458</td>\n",
       "      <td>7.147</td>\n",
       "      <td>54.2</td>\n",
       "      <td>6.0622</td>\n",
       "      <td>3.0</td>\n",
       "      <td>222.0</td>\n",
       "      <td>18.7</td>\n",
       "      <td>5.33</td>\n",
       "      <td>36.2</td>\n",
       "    </tr>\n",
       "  </tbody>\n",
       "</table>\n",
       "</div>"
      ],
      "text/plain": [
       "      CRIM    ZN  INDUS  CHAS    NOX     RM   AGE     DIS  RAD    TAX  \\\n",
       "0  0.00632  18.0   2.31   0.0  0.538  6.575  65.2  4.0900  1.0  296.0   \n",
       "1  0.02731   0.0   7.07   0.0  0.469  6.421  78.9  4.9671  2.0  242.0   \n",
       "2  0.02729   0.0   7.07   0.0  0.469  7.185  61.1  4.9671  2.0  242.0   \n",
       "3  0.03237   0.0   2.18   0.0  0.458  6.998  45.8  6.0622  3.0  222.0   \n",
       "4  0.06905   0.0   2.18   0.0  0.458  7.147  54.2  6.0622  3.0  222.0   \n",
       "\n",
       "   PTRATIO  LSTAT  MEDV  \n",
       "0     15.3   4.98  24.0  \n",
       "1     17.8   9.14  21.6  \n",
       "2     17.8   4.03  34.7  \n",
       "3     18.7   2.94  33.4  \n",
       "4     18.7   5.33  36.2  "
      ]
     },
     "execution_count": 218,
     "metadata": {},
     "output_type": "execute_result"
    }
   ],
   "source": [
    "boston_df.drop(['Unnamed: 0'], axis=1, inplace=True)\n",
    "boston_df.head()"
   ]
  },
  {
   "cell_type": "code",
   "execution_count": 219,
   "metadata": {},
   "outputs": [
    {
     "data": {
      "text/html": [
       "<div>\n",
       "<style scoped>\n",
       "    .dataframe tbody tr th:only-of-type {\n",
       "        vertical-align: middle;\n",
       "    }\n",
       "\n",
       "    .dataframe tbody tr th {\n",
       "        vertical-align: top;\n",
       "    }\n",
       "\n",
       "    .dataframe thead th {\n",
       "        text-align: right;\n",
       "    }\n",
       "</style>\n",
       "<table border=\"1\" class=\"dataframe\">\n",
       "  <thead>\n",
       "    <tr style=\"text-align: right;\">\n",
       "      <th></th>\n",
       "      <th>Count</th>\n",
       "    </tr>\n",
       "  </thead>\n",
       "  <tbody>\n",
       "    <tr>\n",
       "      <th>CRIM</th>\n",
       "      <td>506</td>\n",
       "    </tr>\n",
       "    <tr>\n",
       "      <th>ZN</th>\n",
       "      <td>506</td>\n",
       "    </tr>\n",
       "    <tr>\n",
       "      <th>INDUS</th>\n",
       "      <td>506</td>\n",
       "    </tr>\n",
       "    <tr>\n",
       "      <th>CHAS</th>\n",
       "      <td>506</td>\n",
       "    </tr>\n",
       "    <tr>\n",
       "      <th>NOX</th>\n",
       "      <td>506</td>\n",
       "    </tr>\n",
       "    <tr>\n",
       "      <th>RM</th>\n",
       "      <td>506</td>\n",
       "    </tr>\n",
       "    <tr>\n",
       "      <th>AGE</th>\n",
       "      <td>506</td>\n",
       "    </tr>\n",
       "    <tr>\n",
       "      <th>DIS</th>\n",
       "      <td>506</td>\n",
       "    </tr>\n",
       "    <tr>\n",
       "      <th>RAD</th>\n",
       "      <td>506</td>\n",
       "    </tr>\n",
       "    <tr>\n",
       "      <th>TAX</th>\n",
       "      <td>506</td>\n",
       "    </tr>\n",
       "    <tr>\n",
       "      <th>PTRATIO</th>\n",
       "      <td>506</td>\n",
       "    </tr>\n",
       "    <tr>\n",
       "      <th>LSTAT</th>\n",
       "      <td>506</td>\n",
       "    </tr>\n",
       "    <tr>\n",
       "      <th>MEDV</th>\n",
       "      <td>506</td>\n",
       "    </tr>\n",
       "  </tbody>\n",
       "</table>\n",
       "</div>"
      ],
      "text/plain": [
       "         Count\n",
       "CRIM       506\n",
       "ZN         506\n",
       "INDUS      506\n",
       "CHAS       506\n",
       "NOX        506\n",
       "RM         506\n",
       "AGE        506\n",
       "DIS        506\n",
       "RAD        506\n",
       "TAX        506\n",
       "PTRATIO    506\n",
       "LSTAT      506\n",
       "MEDV       506"
      ]
     },
     "execution_count": 219,
     "metadata": {},
     "output_type": "execute_result"
    }
   ],
   "source": [
    "indexes=['Count']\n",
    "tab_df=pd.DataFrame(boston_df.count(), columns=indexes)\n",
    "tab_df"
   ]
  },
  {
   "cell_type": "markdown",
   "metadata": {},
   "source": [
    "<span style=\"color:#4169E1\">  Count is similar for all features, no values are missing. We could check if some features values are \"0\" or \"NaN\".  "
   ]
  },
  {
   "cell_type": "code",
   "execution_count": 220,
   "metadata": {},
   "outputs": [
    {
     "data": {
      "text/html": [
       "<div>\n",
       "<style scoped>\n",
       "    .dataframe tbody tr th:only-of-type {\n",
       "        vertical-align: middle;\n",
       "    }\n",
       "\n",
       "    .dataframe tbody tr th {\n",
       "        vertical-align: top;\n",
       "    }\n",
       "\n",
       "    .dataframe thead th {\n",
       "        text-align: right;\n",
       "    }\n",
       "</style>\n",
       "<table border=\"1\" class=\"dataframe\">\n",
       "  <thead>\n",
       "    <tr style=\"text-align: right;\">\n",
       "      <th></th>\n",
       "      <th>Count of zeros</th>\n",
       "      <th>Count of NaN</th>\n",
       "    </tr>\n",
       "    <tr>\n",
       "      <th>Column Name</th>\n",
       "      <th></th>\n",
       "      <th></th>\n",
       "    </tr>\n",
       "  </thead>\n",
       "  <tbody>\n",
       "    <tr>\n",
       "      <th>CRIM</th>\n",
       "      <td>0</td>\n",
       "      <td>0</td>\n",
       "    </tr>\n",
       "    <tr>\n",
       "      <th>ZN</th>\n",
       "      <td>372</td>\n",
       "      <td>0</td>\n",
       "    </tr>\n",
       "    <tr>\n",
       "      <th>INDUS</th>\n",
       "      <td>0</td>\n",
       "      <td>0</td>\n",
       "    </tr>\n",
       "    <tr>\n",
       "      <th>CHAS</th>\n",
       "      <td>471</td>\n",
       "      <td>0</td>\n",
       "    </tr>\n",
       "    <tr>\n",
       "      <th>NOX</th>\n",
       "      <td>0</td>\n",
       "      <td>0</td>\n",
       "    </tr>\n",
       "    <tr>\n",
       "      <th>RM</th>\n",
       "      <td>0</td>\n",
       "      <td>0</td>\n",
       "    </tr>\n",
       "    <tr>\n",
       "      <th>AGE</th>\n",
       "      <td>0</td>\n",
       "      <td>0</td>\n",
       "    </tr>\n",
       "    <tr>\n",
       "      <th>DIS</th>\n",
       "      <td>0</td>\n",
       "      <td>0</td>\n",
       "    </tr>\n",
       "    <tr>\n",
       "      <th>RAD</th>\n",
       "      <td>0</td>\n",
       "      <td>0</td>\n",
       "    </tr>\n",
       "    <tr>\n",
       "      <th>TAX</th>\n",
       "      <td>0</td>\n",
       "      <td>0</td>\n",
       "    </tr>\n",
       "    <tr>\n",
       "      <th>PTRATIO</th>\n",
       "      <td>0</td>\n",
       "      <td>0</td>\n",
       "    </tr>\n",
       "    <tr>\n",
       "      <th>LSTAT</th>\n",
       "      <td>0</td>\n",
       "      <td>0</td>\n",
       "    </tr>\n",
       "    <tr>\n",
       "      <th>MEDV</th>\n",
       "      <td>0</td>\n",
       "      <td>0</td>\n",
       "    </tr>\n",
       "  </tbody>\n",
       "</table>\n",
       "</div>"
      ],
      "text/plain": [
       "             Count of zeros  Count of NaN\n",
       "Column Name                              \n",
       "CRIM                      0             0\n",
       "ZN                      372             0\n",
       "INDUS                     0             0\n",
       "CHAS                    471             0\n",
       "NOX                       0             0\n",
       "RM                        0             0\n",
       "AGE                       0             0\n",
       "DIS                       0             0\n",
       "RAD                       0             0\n",
       "TAX                       0             0\n",
       "PTRATIO                   0             0\n",
       "LSTAT                     0             0\n",
       "MEDV                      0             0"
      ]
     },
     "execution_count": 220,
     "metadata": {},
     "output_type": "execute_result"
    }
   ],
   "source": [
    "table=[]\n",
    "for column_name in boston_df.columns:\n",
    "    column = boston_df[column_name]\n",
    "    count1 = (column == 0).sum()\n",
    "    count2 = (column == 'NaN').sum()\n",
    "   # tab.add_row([column_name, count1, count2])\n",
    "    table.append([column_name, count1, count2])\n",
    "\n",
    "indexes=['Column Name', 'Count of zeros', 'Count of NaN']\n",
    "tab_df=pd.DataFrame(table, columns=indexes)\n",
    "tab_df.reset_index(drop=True, inplace=True)\n",
    "df_reset=tab_df.set_index('Column Name')\n",
    "df_reset"
   ]
  },
  {
   "cell_type": "markdown",
   "metadata": {},
   "source": [
    "<span style=\"color:#4169E1\">  No NaN values. CHAS is coded [0,1] and ZN is a percentage [0,100], \"0\" values are normal.    \n",
    "The Dataset is \"clean\", all values are \"real\" and we can proceed with statistical analysis.  "
   ]
  },
  {
   "cell_type": "markdown",
   "metadata": {},
   "source": [
    "# III -  Exploratory Data Analysis (EDA)   <a class=\"anchor\" id=\"chapter3\"></a>"
   ]
  },
  {
   "cell_type": "markdown",
   "metadata": {},
   "source": [
    "## III.1 -  Boston, MA,  USA   <a class=\"anchor\" id=\"section_3_1\"></a>"
   ]
  },
  {
   "cell_type": "markdown",
   "metadata": {},
   "source": [
    "#####  Switch cell to \"Code\" for building a map with Folium (does not seem to work with MyBinder)\n",
    "import folium\n",
    "center = [42.361145,-71.057083]\n",
    "#map_boston = folium.Map(location=center, zoom_start=13, tiles ='Stamen Terrain')\n",
    "map_boston = folium.Map(location=center, zoom_start=13)\n",
    "#display map\n",
    "map_boston"
   ]
  },
  {
   "cell_type": "markdown",
   "metadata": {},
   "source": [
    "<span style=\"color:#4169E1\"> Although no information about homes longitude and latitiude is provided, we can display a map of Boston and its region . <br>\n",
    "We can see main radial highways and the famous Charles river."
   ]
  },
  {
   "cell_type": "markdown",
   "metadata": {},
   "source": [
    "<p style=\"text-align:center\">\n",
    "    <img src=\"Boston_map.png\" width=\"1200\" alt=\"Boston: Back Bay\"  />\n",
    "\n",
    "</p>\n",
    "  \n",
    "<center> <i> <b> Greater Boston Area (with Folium) </b> </i> "
   ]
  },
  {
   "cell_type": "markdown",
   "metadata": {},
   "source": [
    "## III.2 - Quick Statistics on Data     <a class=\"anchor\" id=\"section_3_2\"></a>"
   ]
  },
  {
   "cell_type": "code",
   "execution_count": 221,
   "metadata": {},
   "outputs": [
    {
     "data": {
      "text/html": [
       "<div>\n",
       "<style scoped>\n",
       "    .dataframe tbody tr th:only-of-type {\n",
       "        vertical-align: middle;\n",
       "    }\n",
       "\n",
       "    .dataframe tbody tr th {\n",
       "        vertical-align: top;\n",
       "    }\n",
       "\n",
       "    .dataframe thead th {\n",
       "        text-align: right;\n",
       "    }\n",
       "</style>\n",
       "<table border=\"1\" class=\"dataframe\">\n",
       "  <thead>\n",
       "    <tr style=\"text-align: right;\">\n",
       "      <th></th>\n",
       "      <th>CRIM</th>\n",
       "      <th>ZN</th>\n",
       "      <th>INDUS</th>\n",
       "      <th>CHAS</th>\n",
       "      <th>NOX</th>\n",
       "      <th>RM</th>\n",
       "      <th>AGE</th>\n",
       "      <th>DIS</th>\n",
       "      <th>RAD</th>\n",
       "      <th>TAX</th>\n",
       "      <th>PTRATIO</th>\n",
       "      <th>LSTAT</th>\n",
       "      <th>MEDV</th>\n",
       "    </tr>\n",
       "  </thead>\n",
       "  <tbody>\n",
       "    <tr>\n",
       "      <th>count</th>\n",
       "      <td>506.000000</td>\n",
       "      <td>506.000000</td>\n",
       "      <td>506.000000</td>\n",
       "      <td>506.000000</td>\n",
       "      <td>506.000000</td>\n",
       "      <td>506.000000</td>\n",
       "      <td>506.000000</td>\n",
       "      <td>506.000000</td>\n",
       "      <td>506.000000</td>\n",
       "      <td>506.000000</td>\n",
       "      <td>506.000000</td>\n",
       "      <td>506.000000</td>\n",
       "      <td>506.000000</td>\n",
       "    </tr>\n",
       "    <tr>\n",
       "      <th>mean</th>\n",
       "      <td>3.613524</td>\n",
       "      <td>11.363636</td>\n",
       "      <td>11.136779</td>\n",
       "      <td>0.069170</td>\n",
       "      <td>0.554695</td>\n",
       "      <td>6.284634</td>\n",
       "      <td>68.574901</td>\n",
       "      <td>3.795043</td>\n",
       "      <td>9.549407</td>\n",
       "      <td>408.237154</td>\n",
       "      <td>18.455534</td>\n",
       "      <td>12.653063</td>\n",
       "      <td>22.532806</td>\n",
       "    </tr>\n",
       "    <tr>\n",
       "      <th>std</th>\n",
       "      <td>8.601545</td>\n",
       "      <td>23.322453</td>\n",
       "      <td>6.860353</td>\n",
       "      <td>0.253994</td>\n",
       "      <td>0.115878</td>\n",
       "      <td>0.702617</td>\n",
       "      <td>28.148861</td>\n",
       "      <td>2.105710</td>\n",
       "      <td>8.707259</td>\n",
       "      <td>168.537116</td>\n",
       "      <td>2.164946</td>\n",
       "      <td>7.141062</td>\n",
       "      <td>9.197104</td>\n",
       "    </tr>\n",
       "    <tr>\n",
       "      <th>min</th>\n",
       "      <td>0.006320</td>\n",
       "      <td>0.000000</td>\n",
       "      <td>0.460000</td>\n",
       "      <td>0.000000</td>\n",
       "      <td>0.385000</td>\n",
       "      <td>3.561000</td>\n",
       "      <td>2.900000</td>\n",
       "      <td>1.129600</td>\n",
       "      <td>1.000000</td>\n",
       "      <td>187.000000</td>\n",
       "      <td>12.600000</td>\n",
       "      <td>1.730000</td>\n",
       "      <td>5.000000</td>\n",
       "    </tr>\n",
       "    <tr>\n",
       "      <th>25%</th>\n",
       "      <td>0.082045</td>\n",
       "      <td>0.000000</td>\n",
       "      <td>5.190000</td>\n",
       "      <td>0.000000</td>\n",
       "      <td>0.449000</td>\n",
       "      <td>5.885500</td>\n",
       "      <td>45.025000</td>\n",
       "      <td>2.100175</td>\n",
       "      <td>4.000000</td>\n",
       "      <td>279.000000</td>\n",
       "      <td>17.400000</td>\n",
       "      <td>6.950000</td>\n",
       "      <td>17.025000</td>\n",
       "    </tr>\n",
       "    <tr>\n",
       "      <th>50%</th>\n",
       "      <td>0.256510</td>\n",
       "      <td>0.000000</td>\n",
       "      <td>9.690000</td>\n",
       "      <td>0.000000</td>\n",
       "      <td>0.538000</td>\n",
       "      <td>6.208500</td>\n",
       "      <td>77.500000</td>\n",
       "      <td>3.207450</td>\n",
       "      <td>5.000000</td>\n",
       "      <td>330.000000</td>\n",
       "      <td>19.050000</td>\n",
       "      <td>11.360000</td>\n",
       "      <td>21.200000</td>\n",
       "    </tr>\n",
       "    <tr>\n",
       "      <th>75%</th>\n",
       "      <td>3.677083</td>\n",
       "      <td>12.500000</td>\n",
       "      <td>18.100000</td>\n",
       "      <td>0.000000</td>\n",
       "      <td>0.624000</td>\n",
       "      <td>6.623500</td>\n",
       "      <td>94.075000</td>\n",
       "      <td>5.188425</td>\n",
       "      <td>24.000000</td>\n",
       "      <td>666.000000</td>\n",
       "      <td>20.200000</td>\n",
       "      <td>16.955000</td>\n",
       "      <td>25.000000</td>\n",
       "    </tr>\n",
       "    <tr>\n",
       "      <th>max</th>\n",
       "      <td>88.976200</td>\n",
       "      <td>100.000000</td>\n",
       "      <td>27.740000</td>\n",
       "      <td>1.000000</td>\n",
       "      <td>0.871000</td>\n",
       "      <td>8.780000</td>\n",
       "      <td>100.000000</td>\n",
       "      <td>12.126500</td>\n",
       "      <td>24.000000</td>\n",
       "      <td>711.000000</td>\n",
       "      <td>22.000000</td>\n",
       "      <td>37.970000</td>\n",
       "      <td>50.000000</td>\n",
       "    </tr>\n",
       "  </tbody>\n",
       "</table>\n",
       "</div>"
      ],
      "text/plain": [
       "             CRIM          ZN       INDUS        CHAS         NOX          RM  \\\n",
       "count  506.000000  506.000000  506.000000  506.000000  506.000000  506.000000   \n",
       "mean     3.613524   11.363636   11.136779    0.069170    0.554695    6.284634   \n",
       "std      8.601545   23.322453    6.860353    0.253994    0.115878    0.702617   \n",
       "min      0.006320    0.000000    0.460000    0.000000    0.385000    3.561000   \n",
       "25%      0.082045    0.000000    5.190000    0.000000    0.449000    5.885500   \n",
       "50%      0.256510    0.000000    9.690000    0.000000    0.538000    6.208500   \n",
       "75%      3.677083   12.500000   18.100000    0.000000    0.624000    6.623500   \n",
       "max     88.976200  100.000000   27.740000    1.000000    0.871000    8.780000   \n",
       "\n",
       "              AGE         DIS         RAD         TAX     PTRATIO       LSTAT  \\\n",
       "count  506.000000  506.000000  506.000000  506.000000  506.000000  506.000000   \n",
       "mean    68.574901    3.795043    9.549407  408.237154   18.455534   12.653063   \n",
       "std     28.148861    2.105710    8.707259  168.537116    2.164946    7.141062   \n",
       "min      2.900000    1.129600    1.000000  187.000000   12.600000    1.730000   \n",
       "25%     45.025000    2.100175    4.000000  279.000000   17.400000    6.950000   \n",
       "50%     77.500000    3.207450    5.000000  330.000000   19.050000   11.360000   \n",
       "75%     94.075000    5.188425   24.000000  666.000000   20.200000   16.955000   \n",
       "max    100.000000   12.126500   24.000000  711.000000   22.000000   37.970000   \n",
       "\n",
       "             MEDV  \n",
       "count  506.000000  \n",
       "mean    22.532806  \n",
       "std      9.197104  \n",
       "min      5.000000  \n",
       "25%     17.025000  \n",
       "50%     21.200000  \n",
       "75%     25.000000  \n",
       "max     50.000000  "
      ]
     },
     "execution_count": 221,
     "metadata": {},
     "output_type": "execute_result"
    }
   ],
   "source": [
    "boston_df.describe()"
   ]
  },
  {
   "cell_type": "markdown",
   "metadata": {},
   "source": [
    "<span style=\"color:#4169E1\"> Comment. Looking into details, we notice that homes median prices MEDV range from \\\\$5 to \\\\$50000.\n",
    "The data is old. Probably from the 60s or 70s. "
   ]
  },
  {
   "cell_type": "markdown",
   "metadata": {},
   "source": [
    "## III.3 - Features correlated with Home Median Values (MEDV)   <a class=\"anchor\" id=\"section_3_3\"></a>"
   ]
  },
  {
   "cell_type": "code",
   "execution_count": 222,
   "metadata": {},
   "outputs": [
    {
     "data": {
      "text/html": [
       "<style type=\"text/css\">\n",
       "#T_70018_ caption {\n",
       "  color: black;\n",
       "  text-align: center;\n",
       "}\n",
       "</style>\n",
       "<table id=\"T_70018_\">\n",
       "  <caption><b> Correlation Coeff R of all features with MEDV</b></caption>\n",
       "  <thead>\n",
       "    <tr>\n",
       "      <th class=\"blank level0\" >&nbsp;</th>\n",
       "      <th class=\"col_heading level0 col0\" >R</th>\n",
       "    </tr>\n",
       "  </thead>\n",
       "  <tbody>\n",
       "    <tr>\n",
       "      <th id=\"T_70018_level0_row0\" class=\"row_heading level0 row0\" >LSTAT</th>\n",
       "      <td id=\"T_70018_row0_col0\" class=\"data row0 col0\" >-0.737663</td>\n",
       "    </tr>\n",
       "    <tr>\n",
       "      <th id=\"T_70018_level0_row1\" class=\"row_heading level0 row1\" >PTRATIO</th>\n",
       "      <td id=\"T_70018_row1_col0\" class=\"data row1 col0\" >-0.507787</td>\n",
       "    </tr>\n",
       "    <tr>\n",
       "      <th id=\"T_70018_level0_row2\" class=\"row_heading level0 row2\" >INDUS</th>\n",
       "      <td id=\"T_70018_row2_col0\" class=\"data row2 col0\" >-0.483725</td>\n",
       "    </tr>\n",
       "    <tr>\n",
       "      <th id=\"T_70018_level0_row3\" class=\"row_heading level0 row3\" >TAX</th>\n",
       "      <td id=\"T_70018_row3_col0\" class=\"data row3 col0\" >-0.468536</td>\n",
       "    </tr>\n",
       "    <tr>\n",
       "      <th id=\"T_70018_level0_row4\" class=\"row_heading level0 row4\" >NOX</th>\n",
       "      <td id=\"T_70018_row4_col0\" class=\"data row4 col0\" >-0.427321</td>\n",
       "    </tr>\n",
       "    <tr>\n",
       "      <th id=\"T_70018_level0_row5\" class=\"row_heading level0 row5\" >CRIM</th>\n",
       "      <td id=\"T_70018_row5_col0\" class=\"data row5 col0\" >-0.388305</td>\n",
       "    </tr>\n",
       "    <tr>\n",
       "      <th id=\"T_70018_level0_row6\" class=\"row_heading level0 row6\" >RAD</th>\n",
       "      <td id=\"T_70018_row6_col0\" class=\"data row6 col0\" >-0.381626</td>\n",
       "    </tr>\n",
       "    <tr>\n",
       "      <th id=\"T_70018_level0_row7\" class=\"row_heading level0 row7\" >AGE</th>\n",
       "      <td id=\"T_70018_row7_col0\" class=\"data row7 col0\" >-0.376955</td>\n",
       "    </tr>\n",
       "    <tr>\n",
       "      <th id=\"T_70018_level0_row8\" class=\"row_heading level0 row8\" >CHAS</th>\n",
       "      <td id=\"T_70018_row8_col0\" class=\"data row8 col0\" >0.175260</td>\n",
       "    </tr>\n",
       "    <tr>\n",
       "      <th id=\"T_70018_level0_row9\" class=\"row_heading level0 row9\" >DIS</th>\n",
       "      <td id=\"T_70018_row9_col0\" class=\"data row9 col0\" >0.249929</td>\n",
       "    </tr>\n",
       "    <tr>\n",
       "      <th id=\"T_70018_level0_row10\" class=\"row_heading level0 row10\" >ZN</th>\n",
       "      <td id=\"T_70018_row10_col0\" class=\"data row10 col0\" >0.360445</td>\n",
       "    </tr>\n",
       "    <tr>\n",
       "      <th id=\"T_70018_level0_row11\" class=\"row_heading level0 row11\" >RM</th>\n",
       "      <td id=\"T_70018_row11_col0\" class=\"data row11 col0\" >0.695360</td>\n",
       "    </tr>\n",
       "    <tr>\n",
       "      <th id=\"T_70018_level0_row12\" class=\"row_heading level0 row12\" >MEDV</th>\n",
       "      <td id=\"T_70018_row12_col0\" class=\"data row12 col0\" >1.000000</td>\n",
       "    </tr>\n",
       "  </tbody>\n",
       "</table>\n"
      ],
      "text/plain": [
       "<pandas.io.formats.style.Styler at 0x274e6b51a30>"
      ]
     },
     "execution_count": 222,
     "metadata": {},
     "output_type": "execute_result"
    }
   ],
   "source": [
    "Styles = [dict(selector = \"caption\", \n",
    "               props = [(\"color\", \"black\"), \n",
    "                        (\"text-align\", \"center\")])]\n",
    "cor_df=pd.DataFrame(boston_df.corr()['MEDV'].sort_values())\n",
    "cor_df=cor_df.rename(columns={'MEDV': 'R'})\n",
    "cor_df=cor_df.style.set_caption('<b> Correlation Coeff R of all features with MEDV</b>').set_table_styles(Styles)\n",
    "cor_df"
   ]
  },
  {
   "cell_type": "markdown",
   "metadata": {},
   "source": [
    "<span style=\"color:#4169E1\"> The table displays correlation coefficient R (assuming a linear correlation) of all features with median home price MEDV. (we assume it's a Person correlation)  \n",
    "<span style=\"color:#4169E1\"> Median prices MEDV increases with **increasing:** <br>\n",
    "   *      RM - average number of rooms per dwelling\n",
    "   *      ZN - proportion of residential land zoned for lots over 25,000 sq.ft.\n",
    "   *      DIS - weighted distances to five Boston employment centres\n",
    " \n",
    "<span style=\"color:#4169E1\"> Town areas bounded to Charles River are slighty positively correlated with median home prices MEDV. \n",
    "    \n",
    "<span style=\"color:#4169E1\">  Median prices MEDV increases with **decreasing:** <br>  \n",
    "   \n",
    "   *      LSTAT - \\% lower status of the population\n",
    "   *      PTRATIO - pupil-teacher ratio by town\n",
    "   *      INDUS - proportion of non-retail business acres per town.\n",
    "   *      TAX - full-value property-tax rate per \\$10,000\n",
    "   *      NOX - nitric oxides concentration (parts per 10 million)\n",
    "   *      CRIM - per capita crime rate by town\n",
    "   *      RAD - index of accessibility to radial highways\n",
    "   *      AGE - proportion of owner-occupied units built prior to 1940\n",
    "\n",
    "<span style=\"color:#4169E1\">  These results point to wealthy areas with low crime, private schools with low PTRATIO, low pollution, low \\% of lower status population.  <br>\n",
    "We will investigate some aspects of these correlations in the next sections.  \n"
   ]
  },
  {
   "cell_type": "markdown",
   "metadata": {},
   "source": [
    "# IV -  Descriptive Statistics   <a class=\"anchor\" id=\"chapter4\"></a>"
   ]
  },
  {
   "cell_type": "markdown",
   "metadata": {},
   "source": [
    "For all visualizations, please include a title in each graph and appropriate labels Generate the following and explain your findings: <br>\n",
    "   * For the \"Median value of owner-occupied homes\" provide a boxplot \n",
    "   * Provide a bar plot for the Charles river variable \n",
    "   * Provide a boxplot for the MEDV variable vs the AGE variable. (Discretize the age variable into three groups of 35 years and younger, between 35 and 70 years and 70 years and older) \n",
    "   * Provide a scatter plot to show the relationship between Nitric oxide concentrations and the proportion of non-retail business acres per town. What can you say about the relationship? \n",
    "   * Create a histogram for the pupil to teacher ratio variable"
   ]
  },
  {
   "cell_type": "markdown",
   "metadata": {},
   "source": [
    "## IV.1 - Median value of owner-occupied homes   <a class=\"anchor\" id=\"section_4_1\"></a>\n",
    "\n",
    "\n",
    "<span style=\"color:#4169E1\"> We plot a boxplot and the distribution (histogram)."
   ]
  },
  {
   "cell_type": "code",
   "execution_count": 223,
   "metadata": {},
   "outputs": [
    {
     "name": "stdout",
     "output_type": "stream",
     "text": [
      "  \n"
     ]
    },
    {
     "data": {
      "image/png": "[encoded data removed]",
      "text/plain": [
       "<Figure size 1152x360 with 2 Axes>"
      ]
     },
     "metadata": {},
     "output_type": "display_data"
    }
   ],
   "source": [
    "fig,ax=plt.subplots(1,2,figsize=(16,5))\n",
    "# set the spacing between subplots\n",
    "plt.subplots_adjust(left=0.1,\n",
    "                    bottom=0.1,\n",
    "                    right=0.9,\n",
    "                    top=0.9,\n",
    "                    wspace=0.5,\n",
    "                    hspace=0.4)\n",
    "\n",
    "fig.suptitle('Median value of owner-occupied homes: Boxplot and Distribution ', fontsize=14, fontweight='bold')\n",
    "\n",
    "ax[0].boxplot(boston_df['MEDV'], notch=True, patch_artist=True,\n",
    "            boxprops=dict(facecolor='c', color='b'),\n",
    "            capprops=dict(color='g'),\n",
    "            whiskerprops=dict(color='b'),\n",
    "            flierprops=dict(color='m', markeredgecolor='r'),\n",
    "            medianprops=dict(color='k'),\n",
    "            )\n",
    "ax[0].set_xticks([])\n",
    "ax[0].set_ylabel('Price $  x1000', weight='bold')\n",
    "ax[0].set_xlabel('MEDV', weight='bold')\n",
    "\n",
    "\n",
    "ax[1]=sns.histplot(data=boston_df,x='MEDV', bins=15, color=\"skyblue\", alpha = 0.9, kde=True)  #, line_kws={'color': 'k'})\n",
    "ax[1].lines[0].set_color('crimson')   # change color of kde... \n",
    "ax[1].set_ylabel('Count', weight='bold')\n",
    "ax[1].set_xlabel('MEDV', weight='bold')\n",
    "print('  ')"
   ]
  },
  {
   "cell_type": "markdown",
   "metadata": {},
   "source": [
    "<span style=\"color:#4169E1\"> Old data: 1970s, maximum median price is around \\\\$50000. <br>\n",
    "The median is 21200 $ as stated in section III.2, last column. <br>\n",
    "Above 75\\% quartile, we find many outliers. Hence a distribution that looks like a normal distribution skewed to the right. This will be accunted for, during the statistical analysis for selecting the best tests. "
   ]
  },
  {
   "cell_type": "markdown",
   "metadata": {},
   "source": [
    "## IV.2 -  Charles river variable   <a class=\"anchor\" id=\"section_4_2\"></a>\n",
    "\n",
    "<span style=\"color:#4169E1\"> Discrete variable with 2 values: 0,1. <br> We plot a barplot. \n"
   ]
  },
  {
   "cell_type": "code",
   "execution_count": 224,
   "metadata": {},
   "outputs": [
    {
     "data": {
      "image/png": "[encoded data removed]",
      "text/plain": [
       "<Figure size 576x432 with 1 Axes>"
      ]
     },
     "metadata": {},
     "output_type": "display_data"
    }
   ],
   "source": [
    "fig = plt.figure(figsize = (8, 6))\n",
    "sns.set(style=\"whitegrid\")\n",
    "#ax = sns.barplot(x=\"CHAS\", y='MEDV',data=boston_df)\n",
    "#ax = sns.barplot(x=\"CHAS\",data=boston_df)\n",
    "#Charles River dummy variable (1 if tract bounds river; 0 otherwise)\n",
    "fig.suptitle('CHAS distribution.  1: area bounds river   0 otherwise ', fontsize=14, fontweight='bold')\n",
    "ax = sns.histplot(data=boston_df,x=\"CHAS\", color=\"crimson\")\n",
    "ax.set_xlabel('CHAS', fontsize=13, fontweight='bold')\n",
    "ax.set_ylabel('Count', fontsize=13, fontweight='bold')\n",
    "plt.show()"
   ]
  },
  {
   "cell_type": "code",
   "execution_count": 225,
   "metadata": {},
   "outputs": [
    {
     "data": {
      "text/html": [
       "<div>\n",
       "<style scoped>\n",
       "    .dataframe tbody tr th:only-of-type {\n",
       "        vertical-align: middle;\n",
       "    }\n",
       "\n",
       "    .dataframe tbody tr th {\n",
       "        vertical-align: top;\n",
       "    }\n",
       "\n",
       "    .dataframe thead th {\n",
       "        text-align: right;\n",
       "    }\n",
       "</style>\n",
       "<table border=\"1\" class=\"dataframe\">\n",
       "  <thead>\n",
       "    <tr style=\"text-align: right;\">\n",
       "      <th></th>\n",
       "      <th>CHAS</th>\n",
       "    </tr>\n",
       "  </thead>\n",
       "  <tbody>\n",
       "    <tr>\n",
       "      <th>0.0</th>\n",
       "      <td>471</td>\n",
       "    </tr>\n",
       "    <tr>\n",
       "      <th>1.0</th>\n",
       "      <td>35</td>\n",
       "    </tr>\n",
       "  </tbody>\n",
       "</table>\n",
       "</div>"
      ],
      "text/plain": [
       "     CHAS\n",
       "0.0   471\n",
       "1.0    35"
      ]
     },
     "execution_count": 225,
     "metadata": {},
     "output_type": "execute_result"
    }
   ],
   "source": [
    "boston_df['CHAS'].value_counts()\n",
    "#indexes=['Count']\n",
    "#$tab_df=pd.DataFrame(boston_df['CHAS'].value_counts(), columns=indexes)\n",
    "tab_df=pd.DataFrame(boston_df['CHAS'].value_counts())\n",
    "tab_df"
   ]
  },
  {
   "cell_type": "markdown",
   "metadata": {},
   "source": [
    "<span style=\"color:#4169E1\"> The sample of town areas along the Charles river is low, about 7\\%.  \n",
    "We will analyse the influence on this factor on homes median prices. "
   ]
  },
  {
   "cell_type": "markdown",
   "metadata": {},
   "source": [
    "##  IV.3 -  MEDV variable vs the AGE variable.   <a class=\"anchor\" id=\"section_4_3\"></a>"
   ]
  },
  {
   "cell_type": "markdown",
   "metadata": {},
   "source": [
    "Discretize the age variable into three groups of 35 years and younger, between 35 and 70 years and 70 years and older. \n",
    " \n",
    "<span style=\"color:#4169E1\"> <b> Note: from what I get from the data, the age variable is the percentage of old houses (built prior to 1940) </b> in the city areas covered by the dataset, not the age of houses. <br> Anyway we proceed. We will create a numerical variable: 0,1,2 for each age groups and add a \"numerical\" column <code>\"AGE_group\"</code> to the dataframe.     "
   ]
  },
  {
   "cell_type": "code",
   "execution_count": 226,
   "metadata": {},
   "outputs": [],
   "source": [
    "boston_df.loc[(boston_df['AGE'] <= 35), 'AGE_group'] = 0\n",
    "boston_df.loc[(boston_df['AGE'] > 35)&(boston_df['AGE'] < 70), 'AGE_group'] = 1\n",
    "boston_df.loc[(boston_df['AGE'] >= 70), 'AGE_group'] = 2"
   ]
  },
  {
   "cell_type": "code",
   "execution_count": 227,
   "metadata": {},
   "outputs": [
    {
     "data": {
      "text/html": [
       "<div>\n",
       "<style scoped>\n",
       "    .dataframe tbody tr th:only-of-type {\n",
       "        vertical-align: middle;\n",
       "    }\n",
       "\n",
       "    .dataframe tbody tr th {\n",
       "        vertical-align: top;\n",
       "    }\n",
       "\n",
       "    .dataframe thead th {\n",
       "        text-align: right;\n",
       "    }\n",
       "</style>\n",
       "<table border=\"1\" class=\"dataframe\">\n",
       "  <thead>\n",
       "    <tr style=\"text-align: right;\">\n",
       "      <th></th>\n",
       "      <th>CRIM</th>\n",
       "      <th>ZN</th>\n",
       "      <th>INDUS</th>\n",
       "      <th>CHAS</th>\n",
       "      <th>NOX</th>\n",
       "      <th>RM</th>\n",
       "      <th>AGE</th>\n",
       "      <th>DIS</th>\n",
       "      <th>RAD</th>\n",
       "      <th>TAX</th>\n",
       "      <th>PTRATIO</th>\n",
       "      <th>LSTAT</th>\n",
       "      <th>MEDV</th>\n",
       "      <th>AGE_group</th>\n",
       "    </tr>\n",
       "  </thead>\n",
       "  <tbody>\n",
       "    <tr>\n",
       "      <th>0</th>\n",
       "      <td>0.00632</td>\n",
       "      <td>18.0</td>\n",
       "      <td>2.31</td>\n",
       "      <td>0.0</td>\n",
       "      <td>0.538</td>\n",
       "      <td>6.575</td>\n",
       "      <td>65.2</td>\n",
       "      <td>4.0900</td>\n",
       "      <td>1.0</td>\n",
       "      <td>296.0</td>\n",
       "      <td>15.3</td>\n",
       "      <td>4.98</td>\n",
       "      <td>24.0</td>\n",
       "      <td>1.0</td>\n",
       "    </tr>\n",
       "    <tr>\n",
       "      <th>1</th>\n",
       "      <td>0.02731</td>\n",
       "      <td>0.0</td>\n",
       "      <td>7.07</td>\n",
       "      <td>0.0</td>\n",
       "      <td>0.469</td>\n",
       "      <td>6.421</td>\n",
       "      <td>78.9</td>\n",
       "      <td>4.9671</td>\n",
       "      <td>2.0</td>\n",
       "      <td>242.0</td>\n",
       "      <td>17.8</td>\n",
       "      <td>9.14</td>\n",
       "      <td>21.6</td>\n",
       "      <td>2.0</td>\n",
       "    </tr>\n",
       "    <tr>\n",
       "      <th>2</th>\n",
       "      <td>0.02729</td>\n",
       "      <td>0.0</td>\n",
       "      <td>7.07</td>\n",
       "      <td>0.0</td>\n",
       "      <td>0.469</td>\n",
       "      <td>7.185</td>\n",
       "      <td>61.1</td>\n",
       "      <td>4.9671</td>\n",
       "      <td>2.0</td>\n",
       "      <td>242.0</td>\n",
       "      <td>17.8</td>\n",
       "      <td>4.03</td>\n",
       "      <td>34.7</td>\n",
       "      <td>1.0</td>\n",
       "    </tr>\n",
       "  </tbody>\n",
       "</table>\n",
       "</div>"
      ],
      "text/plain": [
       "      CRIM    ZN  INDUS  CHAS    NOX     RM   AGE     DIS  RAD    TAX  \\\n",
       "0  0.00632  18.0   2.31   0.0  0.538  6.575  65.2  4.0900  1.0  296.0   \n",
       "1  0.02731   0.0   7.07   0.0  0.469  6.421  78.9  4.9671  2.0  242.0   \n",
       "2  0.02729   0.0   7.07   0.0  0.469  7.185  61.1  4.9671  2.0  242.0   \n",
       "\n",
       "   PTRATIO  LSTAT  MEDV  AGE_group  \n",
       "0     15.3   4.98  24.0        1.0  \n",
       "1     17.8   9.14  21.6        2.0  \n",
       "2     17.8   4.03  34.7        1.0  "
      ]
     },
     "execution_count": 227,
     "metadata": {},
     "output_type": "execute_result"
    }
   ],
   "source": [
    "boston_df.head(3)"
   ]
  },
  {
   "cell_type": "markdown",
   "metadata": {},
   "source": [
    "<span style=\"color:#4169E1\"> We visualize the data: \"MEDV variable vs the AGE variable\" with boxplots."
   ]
  },
  {
   "cell_type": "code",
   "execution_count": 228,
   "metadata": {},
   "outputs": [
    {
     "data": {
      "image/png": "[encoded data removed]",
      "text/plain": [
       "<Figure size 576x432 with 1 Axes>"
      ]
     },
     "metadata": {},
     "output_type": "display_data"
    }
   ],
   "source": [
    "fig = plt.figure(figsize = (8, 6))\n",
    "fig.suptitle('MEDV  vs AGE group statistics',fontsize=14, fontweight='bold')\n",
    "sns.set(style=\"whitegrid\")\n",
    "ax = sns.boxplot(x='AGE_group', y='MEDV', data=boston_df.sort_values('AGE_group'))\n",
    "ax.set_xticklabels(['[0 , 35]', ']35 , 70[','[70 , max]'],  fontweight='bold')\n",
    "ax.set_xlabel('Age group', fontsize=13, fontweight='bold')\n",
    "ax.set_ylabel('Median price ($) of o-o homes   x1000', fontsize=13, fontweight='bold')\n",
    "plt.show()"
   ]
  },
  {
   "cell_type": "markdown",
   "metadata": {},
   "source": [
    "<span style=\"color:#4169E1\">  The median of city areas home median prices decreases with an increasing proportion of old houses. Which seems normal. <br>\n",
    "Nevertheless, we can see many outliers in the last category: city areas with high percentage of old houses. This could be linked to other factors, such as large old homes with view on the Charles river for example. We will investigate this aspect in the Statistical Analysis section.  "
   ]
  },
  {
   "cell_type": "markdown",
   "metadata": {},
   "source": [
    "##   IV.4 -  Nitric oxide concentrations v. non-retail business acres per town. <a class=\"anchor\" id=\"section_4_4\"></a>\n",
    "\n",
    "<span style=\"color:#4169E1\">  We investigate the relation between variables NOX and INDUS. <br>\n",
    "**Out of curiosity,** we checked other features related to NOX and found that **DIS had a significant correlation with NOX**. "
   ]
  },
  {
   "cell_type": "code",
   "execution_count": 229,
   "metadata": {},
   "outputs": [
    {
     "data": {
      "image/png": "[encoded data removed]",
      "text/plain": [
       "<Figure size 1152x360 with 2 Axes>"
      ]
     },
     "metadata": {},
     "output_type": "display_data"
    }
   ],
   "source": [
    "fig=plt.figure(figsize=(16,5))\n",
    "# set the spacing between subplots\n",
    "plt.subplots_adjust(left=0.1,\n",
    "                    bottom=0.1,\n",
    "                    right=0.9,\n",
    "                    top=0.9,\n",
    "                    wspace=0.5,\n",
    "                    hspace=0.4)\n",
    "fig.suptitle('Nitric oxide concentrations (NOX) v. non-retail business acres per town (INDUS)',fontsize=14, fontweight='bold')\n",
    "ax = fig.add_subplot(1, 2, 1)\n",
    "#sns.set(style=\"whitegrid\")\n",
    "sns.scatterplot(x='INDUS', y='NOX', data=boston_df)\n",
    "ax.set_xlabel('Industrial acres %',fontsize=13, fontweight='bold')\n",
    "ax.set_ylabel('Nox concentration', fontsize=13, fontweight='bold')\n",
    "ax = fig.add_subplot(1, 2, 2)\n",
    "ax = sns.scatterplot(x='INDUS', y='NOX', hue='DIS', data=boston_df)\n",
    "ax.set_xlabel('Industrial acres %',fontsize=13, fontweight='bold')\n",
    "ax.set_ylabel('Nox concentration', fontsize=13, fontweight='bold')\n",
    "plt.show()"
   ]
  },
  {
   "cell_type": "markdown",
   "metadata": {},
   "source": [
    "<span style=\"color:#4169E1\">  We can see a linear dependance NOX vs. INDUS. Nox pollution is linked to an increasing proportion of industrial zones in a given city area.  <br>  \n",
    "From the second graph, it looks like DIS has a more significant impact on NOX than variable INDUS. We will analyse the correlation NOX-DIS in Appendix. <br>  More than industrial activities, vehicle traffic could be the driving factor in NOX concentration. In the 60s, 70s, catalytic converters did not exist. It is possible that the five Boston employment centres were located downtown, where traffic was dense and exhaust gas pollution more concentrated.  The distance to radial highways does not seem to have a strong effect on NOX concentration, possibly because at the time, traffic was more fluid on the highways.    "
   ]
  },
  {
   "cell_type": "markdown",
   "metadata": {},
   "source": [
    "## IV.5 - Pupil to teacher ratio variable    <a class=\"anchor\" id=\"section_4_5\"></a>\n",
    "\n",
    "<span style=\"color:#4169E1\"> We plot the distribution of ratio PTRATIO with an histogram. "
   ]
  },
  {
   "cell_type": "code",
   "execution_count": 230,
   "metadata": {},
   "outputs": [
    {
     "data": {
      "image/png": "[encoded data removed]",
      "text/plain": [
       "<Figure size 576x432 with 1 Axes>"
      ]
     },
     "metadata": {},
     "output_type": "display_data"
    }
   ],
   "source": [
    "fig = plt.figure(figsize = (8, 6))\n",
    "sns.set(style=\"whitegrid\")\n",
    "\n",
    "fig.suptitle('Pupil to teacher ratio variable (PTRATIO) distribution', fontsize=14, fontweight='bold')\n",
    "ax = sns.histplot(data=boston_df,x='PTRATIO', color=\"limegreen\")\n",
    "ax.set_xlabel('Pupil to teacher ratio variable', fontsize=13, fontweight='bold')\n",
    "ax.set_ylabel('Count', fontsize=13, fontweight='bold')\n",
    "plt.show()"
   ]
  },
  {
   "cell_type": "code",
   "execution_count": 231,
   "metadata": {},
   "outputs": [
    {
     "data": {
      "text/html": [
       "<div>\n",
       "<style scoped>\n",
       "    .dataframe tbody tr th:only-of-type {\n",
       "        vertical-align: middle;\n",
       "    }\n",
       "\n",
       "    .dataframe tbody tr th {\n",
       "        vertical-align: top;\n",
       "    }\n",
       "\n",
       "    .dataframe thead th {\n",
       "        text-align: right;\n",
       "    }\n",
       "</style>\n",
       "<table border=\"1\" class=\"dataframe\">\n",
       "  <thead>\n",
       "    <tr style=\"text-align: right;\">\n",
       "      <th></th>\n",
       "      <th>PTRATIO</th>\n",
       "    </tr>\n",
       "  </thead>\n",
       "  <tbody>\n",
       "    <tr>\n",
       "      <th>count</th>\n",
       "      <td>506.000000</td>\n",
       "    </tr>\n",
       "    <tr>\n",
       "      <th>mean</th>\n",
       "      <td>18.455534</td>\n",
       "    </tr>\n",
       "    <tr>\n",
       "      <th>std</th>\n",
       "      <td>2.164946</td>\n",
       "    </tr>\n",
       "    <tr>\n",
       "      <th>min</th>\n",
       "      <td>12.600000</td>\n",
       "    </tr>\n",
       "    <tr>\n",
       "      <th>25%</th>\n",
       "      <td>17.400000</td>\n",
       "    </tr>\n",
       "    <tr>\n",
       "      <th>50%</th>\n",
       "      <td>19.050000</td>\n",
       "    </tr>\n",
       "    <tr>\n",
       "      <th>75%</th>\n",
       "      <td>20.200000</td>\n",
       "    </tr>\n",
       "    <tr>\n",
       "      <th>max</th>\n",
       "      <td>22.000000</td>\n",
       "    </tr>\n",
       "  </tbody>\n",
       "</table>\n",
       "</div>"
      ],
      "text/plain": [
       "          PTRATIO\n",
       "count  506.000000\n",
       "mean    18.455534\n",
       "std      2.164946\n",
       "min     12.600000\n",
       "25%     17.400000\n",
       "50%     19.050000\n",
       "75%     20.200000\n",
       "max     22.000000"
      ]
     },
     "execution_count": 231,
     "metadata": {},
     "output_type": "execute_result"
    }
   ],
   "source": [
    "boston_df['PTRATIO'].describe()\n",
    "tab_df=pd.DataFrame(boston_df['PTRATIO'].describe())\n",
    "tab_df"
   ]
  },
  {
   "cell_type": "markdown",
   "metadata": {},
   "source": [
    "<span style=\"color:#4169E1\">   The distribution is skewed to the left. It is possible that low ratio is linked to private schools in wealthy areas. From section III.3, we know that PTRATIO is strongly linearly correlated with MEDV (negatively !). Therefore a high proportion of expensive house MEDV is linked to low PTRATIO.  <br>\n",
    "It could be interesting to study the link between low MEDV, high PTRATIO, high CRIM, high percentage LSTAT (lower status of the population). "
   ]
  },
  {
   "cell_type": "markdown",
   "metadata": {},
   "source": [
    "# V -  Statistical Analysis    <a class=\"anchor\" id=\"chapter5\"></a>"
   ]
  },
  {
   "cell_type": "markdown",
   "metadata": {},
   "source": [
    "**Task 5: Use the appropriate tests to answer the questions provided.**\n",
    "\n",
    "For each of the following questions; \n",
    "   * Is there a significant difference in median value of houses bounded by the Charles river or not? (T-test for independent samples) \n",
    "   * Is there a difference in Median values of houses (MEDV) for each proportion of owner occupied units built prior to 1940 (AGE)? (ANOVA) \n",
    "   * Can we conclude that there is no relationship between Nitric oxide concentrations and proportion of non-retail business acres per town? (Pearson Correlation) \n",
    "   * What is the impact of an additional weighted distance to the five Boston employment centres on the median value of owner occupied homes? (Regression analysis) Be sure to: \n",
    "       1. State your hypothesis. \n",
    "       2. Use α = 0.05 \n",
    "       3. Perform the test Statistics. \n",
    "       4. State the conclusion from the test."
   ]
  },
  {
   "cell_type": "markdown",
   "metadata": {},
   "source": [
    "##  V.1 -  Median value of houses bounded by the Charles river  <a class=\"anchor\" id=\"section_5_1\"></a>"
   ]
  },
  {
   "cell_type": "markdown",
   "metadata": {},
   "source": [
    "Is there a significant difference in median value of houses bounded by the Charles river or not? (T-test for independent samples) \n",
    "\n",
    "<span style=\"color:#4169E1\"> We will be using the t-test for independent samples. For the independent t-test, the following assumptions must be met.\n",
    "\n",
    "*   One independent, categorical variable with two levels or group\n",
    "*   One dependent continuous variable\n",
    "*   Independence of the observations. Each subject should belong to only one group. There is no relationship between the observations in each group.\n",
    "*   The dependent variable must follow a normal distribution\n",
    "*   Assumption of homogeneity of variance"
   ]
  },
  {
   "cell_type": "code",
   "execution_count": 232,
   "metadata": {},
   "outputs": [
    {
     "data": {
      "image/png": "[encoded data removed]",
      "text/plain": [
       "<Figure size 1152x360 with 2 Axes>"
      ]
     },
     "metadata": {},
     "output_type": "display_data"
    }
   ],
   "source": [
    "fig=plt.figure(figsize=(16,5))\n",
    "# set the spacing between subplots\n",
    "plt.subplots_adjust(left=0.1,\n",
    "                    bottom=0.1,\n",
    "                    right=0.9,\n",
    "                    top=0.9,\n",
    "                    wspace=0.5,\n",
    "                    hspace=0.4)\n",
    "\n",
    "fig.suptitle('Median value of owner-occupied homes: Boxplot and Distribution ', fontsize=14, fontweight='bold')\n",
    "\n",
    "ax = fig.add_subplot(1, 2, 1)\n",
    "ax=sns.histplot(x=boston_df[boston_df['CHAS'] == 0]['MEDV'],\n",
    "    #x=boston_df['MEDV'],\n",
    "                  bins=15,\n",
    "                  kde=True,\n",
    "                  color='slateblue')\n",
    "ax.lines[0].set_color('crimson')   # change color of kde... \n",
    "ax.set_ylabel('Price $  x1000', weight='bold')\n",
    "ax.set_xlabel('MEDV', weight='bold')\n",
    "\n",
    "ax = fig.add_subplot(1, 2, 2)\n",
    "ax=sns.histplot(x=boston_df[boston_df['CHAS'] == 1]['MEDV'],\n",
    "    #x=boston_df['MEDV'],\n",
    "                  bins=15,\n",
    "                  kde=True,\n",
    "                  color='orchid')\n",
    "ax.lines[0].set_color('blue')   # change color of kde... \n",
    "ax.set_ylabel('Count', weight='bold')\n",
    "ax.set_xlabel('MEDV', weight='bold')\n",
    "plt.show()"
   ]
  },
  {
   "cell_type": "markdown",
   "metadata": {},
   "source": [
    "<span style=\"color:#4169E1\">   MEDV data for CHAS=0 follows a some kind of normal distriubution skewed to the right.   <br>\n",
    "MEDV data for CHAS=1 does not follow a normal distriobution.  <br>\n",
    "We compute quick statistics on both datasets: "
   ]
  },
  {
   "cell_type": "code",
   "execution_count": 233,
   "metadata": {},
   "outputs": [
    {
     "data": {
      "text/html": [
       "<th style=\"text-align:center\"><td style=\"vertical-align:top\"><h2 style=\"text-align: center;\"></h2><table style=\"display:inline\" border=\"1\" class=\"dataframe\">\n",
       "  <thead>\n",
       "    <tr style=\"text-align: right;\">\n",
       "      <th></th>\n",
       "      <th>MEDV for CHAS=1</th>\n",
       "    </tr>\n",
       "  </thead>\n",
       "  <tbody>\n",
       "    <tr>\n",
       "      <th>count</th>\n",
       "      <td>35.000000</td>\n",
       "    </tr>\n",
       "    <tr>\n",
       "      <th>mean</th>\n",
       "      <td>28.440000</td>\n",
       "    </tr>\n",
       "    <tr>\n",
       "      <th>std</th>\n",
       "      <td>11.816643</td>\n",
       "    </tr>\n",
       "    <tr>\n",
       "      <th>min</th>\n",
       "      <td>13.400000</td>\n",
       "    </tr>\n",
       "    <tr>\n",
       "      <th>25%</th>\n",
       "      <td>21.100000</td>\n",
       "    </tr>\n",
       "    <tr>\n",
       "      <th>50%</th>\n",
       "      <td>23.300000</td>\n",
       "    </tr>\n",
       "    <tr>\n",
       "      <th>75%</th>\n",
       "      <td>33.150000</td>\n",
       "    </tr>\n",
       "    <tr>\n",
       "      <th>max</th>\n",
       "      <td>50.000000</td>\n",
       "    </tr>\n",
       "  </tbody>\n",
       "</table style=\"display:inline\"></td></th><th style=\"text-align:center\"><td style=\"vertical-align:top\"><h2 style=\"text-align: center;\"></h2><table style=\"display:inline\" border=\"1\" class=\"dataframe\">\n",
       "  <thead>\n",
       "    <tr style=\"text-align: right;\">\n",
       "      <th></th>\n",
       "      <th>MEDV for CHAS=0</th>\n",
       "    </tr>\n",
       "  </thead>\n",
       "  <tbody>\n",
       "    <tr>\n",
       "      <th>count</th>\n",
       "      <td>471.000000</td>\n",
       "    </tr>\n",
       "    <tr>\n",
       "      <th>mean</th>\n",
       "      <td>22.093843</td>\n",
       "    </tr>\n",
       "    <tr>\n",
       "      <th>std</th>\n",
       "      <td>8.831362</td>\n",
       "    </tr>\n",
       "    <tr>\n",
       "      <th>min</th>\n",
       "      <td>5.000000</td>\n",
       "    </tr>\n",
       "    <tr>\n",
       "      <th>25%</th>\n",
       "      <td>16.600000</td>\n",
       "    </tr>\n",
       "    <tr>\n",
       "      <th>50%</th>\n",
       "      <td>20.900000</td>\n",
       "    </tr>\n",
       "    <tr>\n",
       "      <th>75%</th>\n",
       "      <td>24.800000</td>\n",
       "    </tr>\n",
       "    <tr>\n",
       "      <th>max</th>\n",
       "      <td>50.000000</td>\n",
       "    </tr>\n",
       "  </tbody>\n",
       "</table style=\"display:inline\"></td></th>"
      ]
     },
     "metadata": {},
     "output_type": "display_data"
    }
   ],
   "source": [
    "df1=boston_df[boston_df['CHAS'] == 1]['MEDV'].describe().to_frame()\n",
    "df2=boston_df[boston_df['CHAS'] == 0]['MEDV'].describe().to_frame()\n",
    "#----\n",
    "df1=df1.rename(columns={'MEDV': 'MEDV for CHAS=1'})\n",
    "df2=df2.rename(columns={'MEDV': 'MEDV for CHAS=0'})\n",
    "#--------\n",
    "display_side_by_side(df1,df2)"
   ]
  },
  {
   "cell_type": "markdown",
   "metadata": {},
   "source": [
    "<span style=\"color:#4169E1\">  We expect Levene test and T-test to confirm a signficant difference in variance (std^2) and average values.   <br> \n",
    "\n",
    "<span style=\"color:#4169E1\">  **Levene Test - Variances**    \n",
    "    \n",
    "<span style=\"color:#4169E1\">  Before running the T-test we check the status of variances.   We will use a Levene test, appropriate when data doesn't follow normal distribution. <br>\n",
    "Significance level:  $$ \\mathbf{\\alpha=0.05}$$    \n",
    "<span style=\"color:#4169E1\"> Null Hypothesis:  $$\\mathbf{ 𝐻_{0}: σ_{1}^{2}= σ_{2}^{2} }$$ \n",
    "    $$\\mathbf{ 𝐻_{1}: σ_{1}^{2} \\neq σ_{2}^{2} }$$ "
   ]
  },
  {
   "cell_type": "markdown",
   "metadata": {},
   "source": [
    "<span style=\"color:#4169E1\"> The Levene test tests the null hypothesis that all input samples are from data with equal variances.   <br>\n",
    "If the p-value of Levene’s test is less than the significance level (here 0.05), the variances of at least two groups are not equal. Not: here it's a two-tailed test. "
   ]
  },
  {
   "cell_type": "code",
   "execution_count": 234,
   "metadata": {},
   "outputs": [
    {
     "name": "stdout",
     "output_type": "stream",
     "text": [
      "Test statistic 8.752\n",
      "p-value 0.003\n"
     ]
    }
   ],
   "source": [
    "stat,p= scipy.stats.levene(boston_df[boston_df['CHAS'] == 0]['MEDV'],\n",
    "                   boston_df[boston_df['CHAS'] == 1]['MEDV'], center='mean')       #  Levene Test \n",
    "#stat,p= scipy.stats.levene(boston_df[boston_df['CHAS'] == 0]['MEDV'],\n",
    "#                       boston_df[boston_df['CHAS'] == 1]['MEDV'], center='median')  #  Brown-Forsythe Test   center='median'\n",
    "#stat,p= scipy.stats.bartlett(boston_df[boston_df['CHAS'] == 0]['MEDV'],\n",
    "#                   boston_df[boston_df['CHAS'] == 1]['MEDV'])\n",
    "# since the p-value is greater than 0.05 we can assume equality of variance\n",
    "print(f\"Test statistic {stat:5.3f}\")  \n",
    "print(f\"p-value {p:5.3f}\") "
   ]
  },
  {
   "cell_type": "markdown",
   "metadata": {},
   "source": [
    "<span style=\"color:#4169E1\">  The p-value of Levene’s test is less than the significance level $\\alpha/2$ (2 tailed test, alpha= 0.05), we reject <b><i>H<sub>0</sub></i></b> hypothesis:  <b> the variances of the two data samples are not equal. </b>\n",
    "    \n",
    "<span style=\"color:#4169E1\"> **T-Test** "
   ]
  },
  {
   "cell_type": "markdown",
   "metadata": {},
   "source": [
    "<span style=\"color:#4169E1\">  Calculate the T-test for the means of two independent data samples.\n",
    "<span style=\"color:#4169E1\">  This is a test for the null hypothesis that 2 independent samples have identical average values. Based on variance test, **we run the T-test with unequal variances.**  We set the significance level at 0.05. <br>\n",
    "Hypothesis: \n",
    "$$\\mathbf{ 𝐻_{0}: µ_{1}= µ_{2} }$$     \n",
    "$$\\mathbf{ 𝐻_{1}: µ_{1}\\neq µ_{2} }$$     \n",
    "    "
   ]
  },
  {
   "cell_type": "code",
   "execution_count": 235,
   "metadata": {},
   "outputs": [
    {
     "name": "stdout",
     "output_type": "stream",
     "text": [
      "Test statistic -3.113\n",
      "p-value 0.004\n"
     ]
    }
   ],
   "source": [
    "stat,p= scipy.stats.ttest_ind(boston_df[boston_df['CHAS'] == 0]['MEDV'],\n",
    "                   boston_df[boston_df['CHAS'] == 1]['MEDV'], equal_var = False)\n",
    "print(f\"Test statistic {stat:5.3f}\")  \n",
    "print(f\"p-value {p:5.3f}\") "
   ]
  },
  {
   "cell_type": "markdown",
   "metadata": {},
   "source": [
    "<span style=\"color:#4169E1\">  The p-value of T-test is less than the significance level, p-value \\<\\< 0.05/2  (2-tailed, alpha= 0.05), we reject <b><i>H<sub>0</sub></i></b> hypothesis: **the average of the two data samples are not equal.**\n",
    "    \n",
    "<span style=\"color:#4169E1\">  **Conclusions: Areas bounded by the Charles river have homes with higher median prices.** "
   ]
  },
  {
   "cell_type": "markdown",
   "metadata": {},
   "source": [
    "##  V.2 -  Median values of houses (MEDV) per age group    <a class=\"anchor\" id=\"section_5_2\"></a>\n",
    "\n",
    "(ANOVA) \n",
    "\n",
    "<span style=\"color:#4169E1\"> We consider the 3 MEDV data samples, grouped by age: "
   ]
  },
  {
   "cell_type": "code",
   "execution_count": 236,
   "metadata": {},
   "outputs": [],
   "source": [
    "ag0=boston_df[boston_df['AGE_group'] == 0]['MEDV']\n",
    "ag1=boston_df[boston_df['AGE_group'] == 1]['MEDV']\n",
    "ag2=boston_df[boston_df['AGE_group'] == 2]['MEDV']"
   ]
  },
  {
   "cell_type": "markdown",
   "metadata": {},
   "source": [
    "<span style=\"color:#4169E1\">  We are here working with the mean values $\\mathbf{µ_{1}, µ_{2}, µ_{3}}$ of homes median values (MEDV) in multiple Bostons areas, grouped by AGE. \n",
    "\n",
    "<span style=\"color:#4169E1\">  Null Hypothesis: $$\\mathbf{𝐻_{0}: µ_{1} = µ_{2} = µ_{3}}$$\n",
    "\n",
    "<span style=\"color:#4169E1\">  (the three data samples means are equal) <br> \n",
    "<center> <span style=\"color:#4169E1\">  $\\mathbf{𝐻_{1}}$: at least one of the means differ. </center> \n",
    "<span style=\"color:#4169E1\"> There are 3 groups, we will run an ANOVA test. <br>\n",
    "**Note:**  The classic one-way ANOVA test assumes that all groups share a common standard deviation (or variance) even when their means are different."
   ]
  },
  {
   "cell_type": "markdown",
   "metadata": {},
   "source": [
    "<span style=\"color:#4169E1\">  First of all, we test the variance of the three data samples with a Levene test.  With similar hypothesis as in previous section. <br> \n",
    "    \n",
    "<center> <span style=\"color:#4169E1\">  $\\mathbf{h_{0}}$: the variance of all data sample are equal. <br>\n",
    "$\\mathbf{h_{1}}$: the variance of at least one data sample is different.  <br> </center>\n",
    "<span style=\"color:#4169E1\"> If the p-value of Levene’s test is less than the significance level (here 0.05), the variances of at least two groups are not equal.   "
   ]
  },
  {
   "cell_type": "code",
   "execution_count": 237,
   "metadata": {},
   "outputs": [
    {
     "name": "stdout",
     "output_type": "stream",
     "text": [
      "Test statistic 2.781\n",
      "p-value 0.063\n"
     ]
    }
   ],
   "source": [
    "stat, p = scipy.stats.levene(boston_df[boston_df['AGE_group'] == 0]['MEDV'],\n",
    "                               boston_df[boston_df['AGE_group'] == 1]['MEDV'], \n",
    "                               boston_df[boston_df['AGE_group'] == 2]['MEDV'], center='mean')\n",
    "print(f\"Test statistic {stat:5.3f}\")  \n",
    "print(f\"p-value {p:5.3f}\") "
   ]
  },
  {
   "cell_type": "markdown",
   "metadata": {},
   "source": [
    "<span style=\"color:#4169E1\">  **The p-value is higher than 0.05, we failed to reject $h_{0}$, variances of all 3 samples are close !  We can run the One Way ANOVA test.**"
   ]
  },
  {
   "cell_type": "code",
   "execution_count": 238,
   "metadata": {},
   "outputs": [
    {
     "name": "stdout",
     "output_type": "stream",
     "text": [
      "Test statistic 36.408\n",
      "p-value 1.710501e-15\n"
     ]
    }
   ],
   "source": [
    "f_statistic, p_value = scipy.stats.f_oneway(ag0, ag1, ag2)\n",
    "#print(\"F_Statistic: {0}, P-Value: {1}\".format(f_statistic,p_value))\n",
    "print(f\"Test statistic {f_statistic:5.3f}\")  \n",
    "print(f\"p-value {p_value:2e}\")\n",
    "\n",
    "#f_statistic, p_value"
   ]
  },
  {
   "cell_type": "markdown",
   "metadata": {},
   "source": [
    "<span style=\"color:#4169E1\"> **Since the p-value is less than 0.05, we reject hypothesis $H_{0}$, and the mean values of at least 2 groups, are not equal.**\n",
    "    \n",
    "<span style=\"color:#4169E1\"> AGE has an impact on mean prices (MEDV). This result was visible in the boxplot in section IV.3. The test does not say much about the numerous outliers in age group=2 (higher rate of old houses).  Other factors are involved: number of rooms,...  \n",
    "        "
   ]
  },
  {
   "cell_type": "markdown",
   "metadata": {},
   "source": [
    "##  V.3 -  Nitric oxide concentrations v. non-retail business acres per town     <a class=\"anchor\" id=\"section_5_3\"></a>\n",
    "\n",
    " (Pearson Correlation)\n",
    "\n"
   ]
  },
  {
   "cell_type": "markdown",
   "metadata": {},
   "source": [
    " <span style=\"color:#4169E1\">  Since NOX and INDUS are both continuous variables we can use a Pearson correlation test and draw a scatter plot. <br> \n",
    "We will also run a Linear regression as there should exist a linear relationship between the two variables. And reconcile both correlation coefficents R. <br>\n",
    "In practice, for a Pearson test, both variables should be roughly normally distributed with no outliers.  "
   ]
  },
  {
   "cell_type": "code",
   "execution_count": 239,
   "metadata": {},
   "outputs": [
    {
     "data": {
      "image/png": "[encoded data removed]",
      "text/plain": [
       "<Figure size 1152x360 with 2 Axes>"
      ]
     },
     "metadata": {},
     "output_type": "display_data"
    }
   ],
   "source": [
    "fig=plt.figure(figsize=(16,5))\n",
    "# set the spacing between subplots\n",
    "plt.subplots_adjust(left=0.1,\n",
    "                    bottom=0.1,\n",
    "                    right=0.9,\n",
    "                    top=0.9,\n",
    "                    wspace=0.5,\n",
    "                    hspace=0.4)\n",
    "\n",
    "ax = fig.add_subplot(1, 2, 1)\n",
    "ax=sns.histplot(x=boston_df['NOX'],\n",
    "                  bins=15,\n",
    "                  kde=True,\n",
    "                  color='slateblue')\n",
    "ax.lines[0].set_color('crimson')   # change color of kde... \n",
    "ax.set_ylabel('Count', weight='bold')\n",
    "ax.set_xlabel('NOX', weight='bold')\n",
    "\n",
    "ax = fig.add_subplot(1, 2, 2)\n",
    "ax=sns.histplot(x=boston_df['INDUS'],\n",
    "                  bins=15,\n",
    "                  kde=True,\n",
    "                  color='orchid')\n",
    "ax.lines[0].set_color('blue')   # change color of kde... \n",
    "ax.set_ylabel('Count', weight='bold')\n",
    "ax.set_xlabel('INDUS', weight='bold')\n",
    "plt.show()"
   ]
  },
  {
   "cell_type": "markdown",
   "metadata": {},
   "source": [
    " <span style=\"color:#4169E1\"> With some imagination, both variables are roughly normally distributed with right skew. INDUS exhibits a high number of outliers, for INDUS ~17.5. <br> Anyway, we proceed with the Pearson correlation test and we will run and plot a linear regression. "
   ]
  },
  {
   "cell_type": "markdown",
   "metadata": {},
   "source": [
    " <span style=\"color:#4169E1\"> **State the hypothesis:**\n",
    "\n",
    "  <center> <span style=\"color:#4169E1\"> $\\mathbf{H_{0}}:$ Nitric oxide concentrations is not correlated with non-retail business acres per town. <br>\n",
    " <span style=\"color:#4169E1\"> $\\mathbf{H_{1}}:$ Nitric oxide concentrations is correlated with non-retail business acres per town. </center>\n",
    "      \n",
    " <span style=\"color:#4169E1\">  We assume a significance level $\\mathbf{\\alpha=0.05}$"
   ]
  },
  {
   "cell_type": "code",
   "execution_count": 240,
   "metadata": {},
   "outputs": [
    {
     "name": "stdout",
     "output_type": "stream",
     "text": [
      "Test statistic 0.764\n",
      "p-value 7.913361e-98\n"
     ]
    }
   ],
   "source": [
    "stat, p = scipy.stats.pearsonr(boston_df['INDUS'], boston_df['NOX'])\n",
    "print(f\"Test statistic {stat:5.3f}\")  \n",
    "print(f\"p-value {p:2e}\") "
   ]
  },
  {
   "cell_type": "markdown",
   "metadata": {},
   "source": [
    " <span style=\"color:#4169E1\">  p-value \\<\\< 0.05, we reject hypothesis $H_{0}$, and conclude that NOX and INDUS are (linearly) correlated with R= 0.764"
   ]
  },
  {
   "cell_type": "code",
   "execution_count": 241,
   "metadata": {},
   "outputs": [
    {
     "data": {
      "text/html": [
       "<table class=\"simpletable\">\n",
       "<caption>OLS Regression Results</caption>\n",
       "<tr>\n",
       "  <th>Dep. Variable:</th>           <td>NOX</td>       <th>  R-squared:         </th> <td>   0.583</td>\n",
       "</tr>\n",
       "<tr>\n",
       "  <th>Model:</th>                   <td>OLS</td>       <th>  Adj. R-squared:    </th> <td>   0.582</td>\n",
       "</tr>\n",
       "<tr>\n",
       "  <th>Method:</th>             <td>Least Squares</td>  <th>  F-statistic:       </th> <td>   705.1</td>\n",
       "</tr>\n",
       "<tr>\n",
       "  <th>Date:</th>             <td>Tue, 29 Nov 2022</td> <th>  Prob (F-statistic):</th> <td>7.91e-98</td>\n",
       "</tr>\n",
       "<tr>\n",
       "  <th>Time:</th>                 <td>12:09:56</td>     <th>  Log-Likelihood:    </th> <td>  594.45</td>\n",
       "</tr>\n",
       "<tr>\n",
       "  <th>No. Observations:</th>      <td>   506</td>      <th>  AIC:               </th> <td>  -1185.</td>\n",
       "</tr>\n",
       "<tr>\n",
       "  <th>Df Residuals:</th>          <td>   504</td>      <th>  BIC:               </th> <td>  -1176.</td>\n",
       "</tr>\n",
       "<tr>\n",
       "  <th>Df Model:</th>              <td>     1</td>      <th>                     </th>     <td> </td>   \n",
       "</tr>\n",
       "<tr>\n",
       "  <th>Covariance Type:</th>      <td>nonrobust</td>    <th>                     </th>     <td> </td>   \n",
       "</tr>\n",
       "</table>\n",
       "<table class=\"simpletable\">\n",
       "<tr>\n",
       "    <td></td>       <th>coef</th>     <th>std err</th>      <th>t</th>      <th>P>|t|</th>  <th>[0.025</th>    <th>0.975]</th>  \n",
       "</tr>\n",
       "<tr>\n",
       "  <th>const</th> <td>    0.4110</td> <td>    0.006</td> <td>   64.710</td> <td> 0.000</td> <td>    0.399</td> <td>    0.424</td>\n",
       "</tr>\n",
       "<tr>\n",
       "  <th>x1</th>    <td>    0.0129</td> <td>    0.000</td> <td>   26.554</td> <td> 0.000</td> <td>    0.012</td> <td>    0.014</td>\n",
       "</tr>\n",
       "</table>\n",
       "<table class=\"simpletable\">\n",
       "<tr>\n",
       "  <th>Omnibus:</th>       <td>35.023</td> <th>  Durbin-Watson:     </th> <td>   0.279</td>\n",
       "</tr>\n",
       "<tr>\n",
       "  <th>Prob(Omnibus):</th> <td> 0.000</td> <th>  Jarque-Bera (JB):  </th> <td>  47.995</td>\n",
       "</tr>\n",
       "<tr>\n",
       "  <th>Skew:</th>          <td> 0.548</td> <th>  Prob(JB):          </th> <td>3.78e-11</td>\n",
       "</tr>\n",
       "<tr>\n",
       "  <th>Kurtosis:</th>      <td> 4.038</td> <th>  Cond. No.          </th> <td>    25.1</td>\n",
       "</tr>\n",
       "</table><br/><br/>Notes:<br/>[1] Standard Errors assume that the covariance matrix of the errors is correctly specified."
      ],
      "text/plain": [
       "<class 'statsmodels.iolib.summary.Summary'>\n",
       "\"\"\"\n",
       "                            OLS Regression Results                            \n",
       "==============================================================================\n",
       "Dep. Variable:                    NOX   R-squared:                       0.583\n",
       "Model:                            OLS   Adj. R-squared:                  0.582\n",
       "Method:                 Least Squares   F-statistic:                     705.1\n",
       "Date:                Tue, 29 Nov 2022   Prob (F-statistic):           7.91e-98\n",
       "Time:                        12:09:56   Log-Likelihood:                 594.45\n",
       "No. Observations:                 506   AIC:                            -1185.\n",
       "Df Residuals:                     504   BIC:                            -1176.\n",
       "Df Model:                           1                                         \n",
       "Covariance Type:            nonrobust                                         \n",
       "==============================================================================\n",
       "                 coef    std err          t      P>|t|      [0.025      0.975]\n",
       "------------------------------------------------------------------------------\n",
       "const          0.4110      0.006     64.710      0.000       0.399       0.424\n",
       "x1             0.0129      0.000     26.554      0.000       0.012       0.014\n",
       "==============================================================================\n",
       "Omnibus:                       35.023   Durbin-Watson:                   0.279\n",
       "Prob(Omnibus):                  0.000   Jarque-Bera (JB):               47.995\n",
       "Skew:                           0.548   Prob(JB):                     3.78e-11\n",
       "Kurtosis:                       4.038   Cond. No.                         25.1\n",
       "==============================================================================\n",
       "\n",
       "Notes:\n",
       "[1] Standard Errors assume that the covariance matrix of the errors is correctly specified.\n",
       "\"\"\""
      ]
     },
     "execution_count": 241,
     "metadata": {},
     "output_type": "execute_result"
    }
   ],
   "source": [
    "## X is the input variables (or independent variables)\n",
    "X = boston_df['INDUS']\n",
    "## y is the target/dependent variable\n",
    "y = boston_df['NOX']\n",
    "## add an intercept (beta_0) to our model\n",
    "X = sm.add_constant(X.to_numpy()) \n",
    "model = sm.OLS(y, X).fit()\n",
    "predictions = model.predict(X)\n",
    "# Print out the statistics\n",
    "model.summary()"
   ]
  },
  {
   "cell_type": "code",
   "execution_count": 242,
   "metadata": {},
   "outputs": [
    {
     "name": "stdout",
     "output_type": "stream",
     "text": [
      "Correlation coefficient R, (sqrt(R2)) based on Linear Regression 0.764\n"
     ]
    }
   ],
   "source": [
    "print(f'Correlation coefficient R, (sqrt(R2)) based on Linear Regression {np.sqrt(0.583):5.3f}') "
   ]
  },
  {
   "cell_type": "markdown",
   "metadata": {},
   "source": [
    "<span style=\"color:#4169E1\"> Both correlation coefficients are identical. We now plot the regression line. "
   ]
  },
  {
   "cell_type": "code",
   "execution_count": 243,
   "metadata": {},
   "outputs": [
    {
     "data": {
      "image/png": "[encoded data removed]",
      "text/plain": [
       "<Figure size 576x432 with 1 Axes>"
      ]
     },
     "metadata": {},
     "output_type": "display_data"
    }
   ],
   "source": [
    "fig = plt.figure(figsize = (8, 6))\n",
    "fig.suptitle('Nox v. INDUS - Linear Regression', fontsize=14, fontweight='bold')\n",
    "ax = sns.scatterplot(x='INDUS', y='NOX', data=boston_df)\n",
    "ax= sns.regplot(x='INDUS', y='NOX', data=boston_df)\n",
    "ax.plot(X, model.params[1]*X + model.params[0], 'r' )\n",
    "ax.grid(color='g', linestyle='-.', linewidth=0.5)\n",
    "ax.set_ylabel('NOX',  fontsize=13, fontweight='bold')\n",
    "ax.set_xlabel('INDUS', fontsize=13, fontweight='bold')\n",
    "plt.show()"
   ]
  },
  {
   "cell_type": "markdown",
   "metadata": {},
   "source": [
    "<span style=\"color:#4169E1\"> **Conclusion:** NOX is strongly correlated with INDUS. R=0.765. Since R>0, Nox increases with INDUS variable, i.,e. with increasing industrial land acres per town.  "
   ]
  },
  {
   "cell_type": "markdown",
   "metadata": {},
   "source": [
    "##  V.4  -  Impact of Weighted Distance to Boston employment centres (DIS) on MEDV     <a class=\"anchor\" id=\"section_5_4\"></a>\n",
    "\n",
    " <span style=\"color:#4169E1\"> Impact of an additional weighted distance to the five Boston employment centres on the median value of owner occupied homes? (Regression analysis). <br> \n",
    "Be sure to:\n",
    "    \n",
    "        * State your hypothesis.\n",
    "        * Use α = 0.05\n",
    "        * Perform the test Statistics.\n",
    "        * State the conclusion from the test."
   ]
  },
  {
   "cell_type": "markdown",
   "metadata": {},
   "source": [
    " <span style=\"color:#4169E1\"> **State the hypothesis:**\n",
    "\n",
    "<center> <span style=\"color:#4169E1\"> $\\mathbf{H_{0}}:$ DIS variable has no impact on homes median prices (MEDV) <br>\n",
    "<span style=\"color:#4169E1\"> $\\mathbf{H_{1}}:$ DIS variable has an impact on homes median prices (MEDV). </center>\n",
    "      \n",
    " <span style=\"color:#4169E1\">  We assume a significance level $\\mathbf{\\alpha=0.05}$"
   ]
  },
  {
   "cell_type": "code",
   "execution_count": 244,
   "metadata": {},
   "outputs": [
    {
     "data": {
      "text/html": [
       "<table class=\"simpletable\">\n",
       "<caption>OLS Regression Results</caption>\n",
       "<tr>\n",
       "  <th>Dep. Variable:</th>          <td>MEDV</td>       <th>  R-squared:         </th> <td>   0.062</td>\n",
       "</tr>\n",
       "<tr>\n",
       "  <th>Model:</th>                   <td>OLS</td>       <th>  Adj. R-squared:    </th> <td>   0.061</td>\n",
       "</tr>\n",
       "<tr>\n",
       "  <th>Method:</th>             <td>Least Squares</td>  <th>  F-statistic:       </th> <td>   33.58</td>\n",
       "</tr>\n",
       "<tr>\n",
       "  <th>Date:</th>             <td>Tue, 29 Nov 2022</td> <th>  Prob (F-statistic):</th> <td>1.21e-08</td>\n",
       "</tr>\n",
       "<tr>\n",
       "  <th>Time:</th>                 <td>12:09:57</td>     <th>  Log-Likelihood:    </th> <td> -1823.9</td>\n",
       "</tr>\n",
       "<tr>\n",
       "  <th>No. Observations:</th>      <td>   506</td>      <th>  AIC:               </th> <td>   3652.</td>\n",
       "</tr>\n",
       "<tr>\n",
       "  <th>Df Residuals:</th>          <td>   504</td>      <th>  BIC:               </th> <td>   3660.</td>\n",
       "</tr>\n",
       "<tr>\n",
       "  <th>Df Model:</th>              <td>     1</td>      <th>                     </th>     <td> </td>   \n",
       "</tr>\n",
       "<tr>\n",
       "  <th>Covariance Type:</th>      <td>nonrobust</td>    <th>                     </th>     <td> </td>   \n",
       "</tr>\n",
       "</table>\n",
       "<table class=\"simpletable\">\n",
       "<tr>\n",
       "    <td></td>       <th>coef</th>     <th>std err</th>      <th>t</th>      <th>P>|t|</th>  <th>[0.025</th>    <th>0.975]</th>  \n",
       "</tr>\n",
       "<tr>\n",
       "  <th>const</th> <td>   18.3901</td> <td>    0.817</td> <td>   22.499</td> <td> 0.000</td> <td>   16.784</td> <td>   19.996</td>\n",
       "</tr>\n",
       "<tr>\n",
       "  <th>x1</th>    <td>    1.0916</td> <td>    0.188</td> <td>    5.795</td> <td> 0.000</td> <td>    0.722</td> <td>    1.462</td>\n",
       "</tr>\n",
       "</table>\n",
       "<table class=\"simpletable\">\n",
       "<tr>\n",
       "  <th>Omnibus:</th>       <td>139.779</td> <th>  Durbin-Watson:     </th> <td>   0.570</td>\n",
       "</tr>\n",
       "<tr>\n",
       "  <th>Prob(Omnibus):</th> <td> 0.000</td>  <th>  Jarque-Bera (JB):  </th> <td> 305.104</td>\n",
       "</tr>\n",
       "<tr>\n",
       "  <th>Skew:</th>          <td> 1.466</td>  <th>  Prob(JB):          </th> <td>5.59e-67</td>\n",
       "</tr>\n",
       "<tr>\n",
       "  <th>Kurtosis:</th>      <td> 5.424</td>  <th>  Cond. No.          </th> <td>    9.32</td>\n",
       "</tr>\n",
       "</table><br/><br/>Notes:<br/>[1] Standard Errors assume that the covariance matrix of the errors is correctly specified."
      ],
      "text/plain": [
       "<class 'statsmodels.iolib.summary.Summary'>\n",
       "\"\"\"\n",
       "                            OLS Regression Results                            \n",
       "==============================================================================\n",
       "Dep. Variable:                   MEDV   R-squared:                       0.062\n",
       "Model:                            OLS   Adj. R-squared:                  0.061\n",
       "Method:                 Least Squares   F-statistic:                     33.58\n",
       "Date:                Tue, 29 Nov 2022   Prob (F-statistic):           1.21e-08\n",
       "Time:                        12:09:57   Log-Likelihood:                -1823.9\n",
       "No. Observations:                 506   AIC:                             3652.\n",
       "Df Residuals:                     504   BIC:                             3660.\n",
       "Df Model:                           1                                         \n",
       "Covariance Type:            nonrobust                                         \n",
       "==============================================================================\n",
       "                 coef    std err          t      P>|t|      [0.025      0.975]\n",
       "------------------------------------------------------------------------------\n",
       "const         18.3901      0.817     22.499      0.000      16.784      19.996\n",
       "x1             1.0916      0.188      5.795      0.000       0.722       1.462\n",
       "==============================================================================\n",
       "Omnibus:                      139.779   Durbin-Watson:                   0.570\n",
       "Prob(Omnibus):                  0.000   Jarque-Bera (JB):              305.104\n",
       "Skew:                           1.466   Prob(JB):                     5.59e-67\n",
       "Kurtosis:                       5.424   Cond. No.                         9.32\n",
       "==============================================================================\n",
       "\n",
       "Notes:\n",
       "[1] Standard Errors assume that the covariance matrix of the errors is correctly specified.\n",
       "\"\"\""
      ]
     },
     "execution_count": 244,
     "metadata": {},
     "output_type": "execute_result"
    }
   ],
   "source": [
    "#------------------------\n",
    "# LINEAR REGRESSION\n",
    "#------------------------\n",
    "## X is the input variables (or independent variables)  \n",
    "X = boston_df['DIS']\n",
    "## y is the target/dependent variable\n",
    "y = boston_df['MEDV']\n",
    "## add an intercept (beta_0) to our model\n",
    "X = sm.add_constant(X.to_numpy()) \n",
    "model = sm.OLS(y, X).fit()\n",
    "predictions = model.predict(X)\n",
    "# Print out the statistics\n",
    "model.summary()"
   ]
  },
  {
   "cell_type": "code",
   "execution_count": 245,
   "metadata": {},
   "outputs": [
    {
     "name": "stdout",
     "output_type": "stream",
     "text": [
      "Correlation coefficient R=sqrt(R2) based on Linear Regression 0.249\n"
     ]
    }
   ],
   "source": [
    "print(f'Correlation coefficient R=sqrt(R2) based on Linear Regression {np.sqrt(0.062):5.3f}')"
   ]
  },
  {
   "cell_type": "markdown",
   "metadata": {},
   "source": [
    " <span style=\"color:#4169E1\"> Probability of F-Statistics is close to zero,  p-value << 0.05, **we reject hypothesis $H_{0}$** <br> \n",
    "We conclude that there is an impact of DIS variable on MEDV.  MEDV tends to increases, as distance to employment centers increases.   \n",
    "Nevertheless assuming a linear regression, the correlation factor R=0.25 is relatively low.  \n",
    "We visualize the regression line and a scatter plot.  "
   ]
  },
  {
   "cell_type": "code",
   "execution_count": 246,
   "metadata": {},
   "outputs": [
    {
     "data": {
      "image/png": "[encoded data removed]",
      "text/plain": [
       "<Figure size 576x432 with 1 Axes>"
      ]
     },
     "metadata": {},
     "output_type": "display_data"
    }
   ],
   "source": [
    "fig = plt.figure(figsize = (8, 6))\n",
    "fig.suptitle('MEDV v. DIS - Linear Regression', fontsize=14, fontweight='bold')\n",
    "ax= sns.scatterplot(x='DIS', y='MEDV', data=boston_df)\n",
    "ax= sns.regplot(x='DIS', y='MEDV', data=boston_df)\n",
    "plt.plot(X, model.params[1]*X + model.params[0], 'r' )\n",
    "ax.grid(color='g', linestyle='-.', linewidth=0.5)\n",
    "ax.set_ylabel('MEDV',  fontsize=13, fontweight='bold')\n",
    "ax.set_xlabel('DIS', fontsize=13, fontweight='bold')\n",
    "plt.show()"
   ]
  },
  {
   "cell_type": "markdown",
   "metadata": {},
   "source": [
    " <span style=\"color:#4169E1\"> We try a Peason correlation test. We expect to find similar results. "
   ]
  },
  {
   "cell_type": "code",
   "execution_count": 247,
   "metadata": {},
   "outputs": [
    {
     "name": "stdout",
     "output_type": "stream",
     "text": [
      "Pearson Test statistic 0.250\n",
      "p-value 1.206612e-08\n",
      "Correlation coefficient R sqrt(R2) based on Linear Regression 0.249\n"
     ]
    }
   ],
   "source": [
    "stat, p = scipy.stats.pearsonr(boston_df['DIS'], boston_df['MEDV'])\n",
    "print(f\"Pearson Test statistic {stat:5.3f}\")  \n",
    "print(f\"p-value {p:2e}\") \n",
    "print(f'Correlation coefficient R sqrt(R2) based on Linear Regression {np.sqrt(0.062):5.3f}')"
   ]
  },
  {
   "cell_type": "markdown",
   "metadata": {},
   "source": [
    "<span style=\"color:#4169E1\"> **Conclusion:** The PRson correlation test confirms the results opf the linear regression. Since the p-value  \\<\\< 0.05, we reject  the Null hypothesis and conclude that there is an impact of DIS variable on MEDV. "
   ]
  },
  {
   "cell_type": "markdown",
   "metadata": {},
   "source": [
    "## VI - CONCLUSIONS      <a class=\"anchor\" id=\"chapter6\"></a>"
   ]
  },
  {
   "cell_type": "markdown",
   "metadata": {},
   "source": [
    "\n",
    "<span style=\"color:#4169E1\">  Using descriptive statistics and statistical tests we can conclude that:  \n",
    "    \n",
    "   * There a significant difference in median value of houses bounded by the Charles river. \n",
    "   * Age has a significant negative impact on Median values of houses (MEDV). But it is not the only factor. \n",
    "   * There is a relationship between Nitric oxide concentrations and proportion of non-retail business acres per town i.e. Industrial areas. We found that vehicle trafic density could have a significant impact assuming that employement centers were downtown. (see appendix).   \n",
    "   * There is an influence of the weighted distance to the five Boston employment centres on the median value of owner occupied homes, but it is mild. It is possible that these employment centers were located downtown, in office buildings areas."
   ]
  },
  {
   "cell_type": "markdown",
   "metadata": {},
   "source": [
    "## VII - APPENDIX      <a class=\"anchor\" id=\"chapter7\"></a>"
   ]
  },
  {
   "cell_type": "markdown",
   "metadata": {},
   "source": [
    "## Nox v. DIS\n",
    "<span style=\"color:#4169E1\"> In section IV.4 we noticed a strong correlation of NOX with DIS. We concluded that more than industrial activities, vehicle traffic could be the driving factor in NOX high concentration. In the 60s, 70s, catalytic converters did not exist. It is possible that the five Boston employment centres were located downtown, where traffic was dense and exhaust gas pollution more concentrated.   "
   ]
  },
  {
   "cell_type": "code",
   "execution_count": 248,
   "metadata": {},
   "outputs": [
    {
     "data": {
      "image/png": "[encoded data removed]",
      "text/plain": [
       "<Figure size 576x432 with 1 Axes>"
      ]
     },
     "metadata": {},
     "output_type": "display_data"
    }
   ],
   "source": [
    "fig = plt.figure(figsize = (8, 6))\n",
    "fig.suptitle('Nox v. DIS', fontsize=14, fontweight='bold')\n",
    "sns.set(style=\"whitegrid\")\n",
    "ax = sns.scatterplot(x='DIS', y='NOX', hue='INDUS', data=boston_df)\n",
    "ax.set_ylabel('NOX',  fontsize=13, fontweight='bold')\n",
    "ax.set_xlabel('DIS', fontsize=13, fontweight='bold')\n",
    "plt.show()"
   ]
  },
  {
   "cell_type": "markdown",
   "metadata": {},
   "source": [
    "<span style=\"color:#4169E1\"> We run a polynomial regression (quadratic) and we show a very strong correlation between Nox and Dis. Nox increases as the distance to employement centres decreases. The correlation coefficient R is negative and pretty strong: R= -0.85.   "
   ]
  },
  {
   "cell_type": "code",
   "execution_count": 249,
   "metadata": {},
   "outputs": [
    {
     "data": {
      "text/html": [
       "<table class=\"simpletable\">\n",
       "<caption>OLS Regression Results</caption>\n",
       "<tr>\n",
       "  <th>Dep. Variable:</th>           <td>NOX</td>       <th>  R-squared:         </th> <td>   0.715</td> \n",
       "</tr>\n",
       "<tr>\n",
       "  <th>Model:</th>                   <td>OLS</td>       <th>  Adj. R-squared:    </th> <td>   0.713</td> \n",
       "</tr>\n",
       "<tr>\n",
       "  <th>Method:</th>             <td>Least Squares</td>  <th>  F-statistic:       </th> <td>   419.3</td> \n",
       "</tr>\n",
       "<tr>\n",
       "  <th>Date:</th>             <td>Tue, 29 Nov 2022</td> <th>  Prob (F-statistic):</th> <td>2.71e-136</td>\n",
       "</tr>\n",
       "<tr>\n",
       "  <th>Time:</th>                 <td>12:10:01</td>     <th>  Log-Likelihood:    </th> <td>  690.44</td> \n",
       "</tr>\n",
       "<tr>\n",
       "  <th>No. Observations:</th>      <td>   506</td>      <th>  AIC:               </th> <td>  -1373.</td> \n",
       "</tr>\n",
       "<tr>\n",
       "  <th>Df Residuals:</th>          <td>   502</td>      <th>  BIC:               </th> <td>  -1356.</td> \n",
       "</tr>\n",
       "<tr>\n",
       "  <th>Df Model:</th>              <td>     3</td>      <th>                     </th>     <td> </td>    \n",
       "</tr>\n",
       "<tr>\n",
       "  <th>Covariance Type:</th>      <td>nonrobust</td>    <th>                     </th>     <td> </td>    \n",
       "</tr>\n",
       "</table>\n",
       "<table class=\"simpletable\">\n",
       "<tr>\n",
       "    <td></td>       <th>coef</th>     <th>std err</th>      <th>t</th>      <th>P>|t|</th>  <th>[0.025</th>    <th>0.975]</th>  \n",
       "</tr>\n",
       "<tr>\n",
       "  <th>const</th> <td>    0.9341</td> <td>    0.021</td> <td>   45.110</td> <td> 0.000</td> <td>    0.893</td> <td>    0.975</td>\n",
       "</tr>\n",
       "<tr>\n",
       "  <th>x1</th>    <td>   -0.1821</td> <td>    0.015</td> <td>  -12.389</td> <td> 0.000</td> <td>   -0.211</td> <td>   -0.153</td>\n",
       "</tr>\n",
       "<tr>\n",
       "  <th>x2</th>    <td>    0.0219</td> <td>    0.003</td> <td>    7.476</td> <td> 0.000</td> <td>    0.016</td> <td>    0.028</td>\n",
       "</tr>\n",
       "<tr>\n",
       "  <th>x3</th>    <td>   -0.0009</td> <td>    0.000</td> <td>   -5.124</td> <td> 0.000</td> <td>   -0.001</td> <td>   -0.001</td>\n",
       "</tr>\n",
       "</table>\n",
       "<table class=\"simpletable\">\n",
       "<tr>\n",
       "  <th>Omnibus:</th>       <td>64.176</td> <th>  Durbin-Watson:     </th> <td>   0.286</td>\n",
       "</tr>\n",
       "<tr>\n",
       "  <th>Prob(Omnibus):</th> <td> 0.000</td> <th>  Jarque-Bera (JB):  </th> <td>  87.386</td>\n",
       "</tr>\n",
       "<tr>\n",
       "  <th>Skew:</th>          <td> 0.917</td> <th>  Prob(JB):          </th> <td>1.06e-19</td>\n",
       "</tr>\n",
       "<tr>\n",
       "  <th>Kurtosis:</th>      <td> 3.886</td> <th>  Cond. No.          </th> <td>2.10e+03</td>\n",
       "</tr>\n",
       "</table><br/><br/>Notes:<br/>[1] Standard Errors assume that the covariance matrix of the errors is correctly specified.<br/>[2] The condition number is large, 2.1e+03. This might indicate that there are<br/>strong multicollinearity or other numerical problems."
      ],
      "text/plain": [
       "<class 'statsmodels.iolib.summary.Summary'>\n",
       "\"\"\"\n",
       "                            OLS Regression Results                            \n",
       "==============================================================================\n",
       "Dep. Variable:                    NOX   R-squared:                       0.715\n",
       "Model:                            OLS   Adj. R-squared:                  0.713\n",
       "Method:                 Least Squares   F-statistic:                     419.3\n",
       "Date:                Tue, 29 Nov 2022   Prob (F-statistic):          2.71e-136\n",
       "Time:                        12:10:01   Log-Likelihood:                 690.44\n",
       "No. Observations:                 506   AIC:                            -1373.\n",
       "Df Residuals:                     502   BIC:                            -1356.\n",
       "Df Model:                           3                                         \n",
       "Covariance Type:            nonrobust                                         \n",
       "==============================================================================\n",
       "                 coef    std err          t      P>|t|      [0.025      0.975]\n",
       "------------------------------------------------------------------------------\n",
       "const          0.9341      0.021     45.110      0.000       0.893       0.975\n",
       "x1            -0.1821      0.015    -12.389      0.000      -0.211      -0.153\n",
       "x2             0.0219      0.003      7.476      0.000       0.016       0.028\n",
       "x3            -0.0009      0.000     -5.124      0.000      -0.001      -0.001\n",
       "==============================================================================\n",
       "Omnibus:                       64.176   Durbin-Watson:                   0.286\n",
       "Prob(Omnibus):                  0.000   Jarque-Bera (JB):               87.386\n",
       "Skew:                           0.917   Prob(JB):                     1.06e-19\n",
       "Kurtosis:                       3.886   Cond. No.                     2.10e+03\n",
       "==============================================================================\n",
       "\n",
       "Notes:\n",
       "[1] Standard Errors assume that the covariance matrix of the errors is correctly specified.\n",
       "[2] The condition number is large, 2.1e+03. This might indicate that there are\n",
       "strong multicollinearity or other numerical problems.\n",
       "\"\"\""
      ]
     },
     "execution_count": 249,
     "metadata": {},
     "output_type": "execute_result"
    }
   ],
   "source": [
    "## X is the input variables (or independent variables)\n",
    "x = boston_df['DIS']\n",
    "## y is the target/dependent variable\n",
    "y2 = boston_df['NOX']\n",
    "## add an intercept (beta_0) to our model\n",
    "X2=np.column_stack((x, x**2, x**3))   #, x**4, x**5))\n",
    "#X2=np.column_stack((x, 1/x))\n",
    "#X2=1/x\n",
    "X2 = sm.add_constant(X2) \n",
    "model2 = sm.OLS(y2, X2).fit()\n",
    "predictions2 = model2.predict(X2)\n",
    "# Print out the statistics\n",
    "model2.summary()"
   ]
  },
  {
   "cell_type": "code",
   "execution_count": 250,
   "metadata": {},
   "outputs": [
    {
     "data": {
      "text/plain": [
       "<Figure size 576x504 with 0 Axes>"
      ]
     },
     "metadata": {},
     "output_type": "display_data"
    },
    {
     "data": {
      "image/png": "[encoded data removed]",
      "text/plain": [
       "<Figure size 575.986x432 with 1 Axes>"
      ]
     },
     "metadata": {},
     "output_type": "display_data"
    }
   ],
   "source": [
    "fig = plt.figure(figsize = (8, 7))\n",
    "fig.suptitle('Nox v. DIS', fontsize=14, fontweight='bold')\n",
    "sns.set(style=\"whitegrid\")\n",
    "ax=sns.lmplot(x='DIS', y='NOX',  order=3, data=boston_df, height=6, aspect=1.3333)\n",
    "ax=sns.scatterplot(x='DIS', y='NOX',  data=boston_df)\n",
    "#ax=sns.scatterplot(x='DIS', y='NOX', hue='INDUS', data=boston_df)\n",
    "plt.plot(x, model2.params[3]*x**3 + model2.params[2]*x**2 + model2.params[1]*x + model2.params[0], 'r*' )\n",
    "ax.set_ylabel('NOX',  fontsize=13, fontweight='bold')\n",
    "ax.set_xlabel('DIS', fontsize=13, fontweight='bold')\n",
    "plt.show()"
   ]
  },
  {
   "cell_type": "code",
   "execution_count": 251,
   "metadata": {},
   "outputs": [
    {
     "name": "stdout",
     "output_type": "stream",
     "text": [
      "Pearson Test statistic -0.769 (Linear regression)\n",
      "p-value 4.233063e-100\n",
      "sqrt(R2) based on polynomial (quadratic) regression -0.846\n"
     ]
    }
   ],
   "source": [
    "stat, p = scipy.stats.pearsonr(boston_df['DIS'], boston_df['NOX'])   #  LINEAR DEPENDANCE ! \n",
    "print(f\"Pearson Test statistic {stat:5.3f} (Linear regression)\")  \n",
    "print(f\"p-value {p:2e}\") \n",
    "print(f'sqrt(R2) based on polynomial (quadratic) regression {-np.sqrt(0.715):5.3f}')  # Quadratic regression - BETTER ! "
   ]
  },
  {
   "cell_type": "markdown",
   "metadata": {},
   "source": [
    "<span style=\"color:#4169E1\"> A polynomial regression (order 2) is more efficient than a Pearson test in this case, given the distribution of the dependance of both variables.    "
   ]
  },
  {
   "cell_type": "code",
   "execution_count": null,
   "metadata": {},
   "outputs": [],
   "source": []
  },
  {
   "cell_type": "code",
   "execution_count": null,
   "metadata": {},
   "outputs": [],
   "source": []
  },
  {
   "cell_type": "code",
   "execution_count": null,
   "metadata": {},
   "outputs": [],
   "source": []
  },
  {
   "cell_type": "markdown",
   "metadata": {},
   "source": [
    "## Authors\n"
   ]
  },
  {
   "cell_type": "markdown",
   "metadata": {},
   "source": [
    "## Change Log\n",
    "\n",
    "| Date (YYYY-MM-DD) | Version | Changed By      | Change Description                     |\n",
    "| ----------------- | ------- | --------------- | -------------------------------------- |\n",
    "| 2022-11-24        | 0.1     | Stephane Dedieu |        Created the initial version     |\n",
    "| 2022-11-24        | 0.2     | Stephane Dedieu |          Running all statistics        |\n",
    "| 2022-11-25        | 0.3     | Stephane Dedieu |     Adding pictures and comments       |\n",
    "| 2022-11-28        | 0.4     | Stephane Dedieu |  Nice graphs & completing Conclusions  |"
   ]
  },
  {
   "cell_type": "markdown",
   "metadata": {},
   "source": [
    "Copyright © 2020 IBM Corporation. This notebook and its source code are released under the terms of the [MIT License](https://cognitiveclass.ai/mit-license/?utm_medium=Exinfluencer&utm_source=Exinfluencer&utm_content=000026UJ&utm_term=10006555&utm_id=NA-SkillsNetwork-Channel-SkillsNetworkCoursesIBMDeveloperSkillsNetworkST0151ENSkillsNetwork20531532-2022-01-01).\n"
   ]
  }
 ],
 "metadata": {
  "kernelspec": {
   "display_name": "Python 3 (ipykernel)",
   "language": "python",
   "name": "python3"
  },
  "language_info": {
   "codemirror_mode": {
    "name": "ipython",
    "version": 3
   },
   "file_extension": ".py",
   "mimetype": "text/x-python",
   "name": "python",
   "nbconvert_exporter": "python",
   "pygments_lexer": "ipython3",
   "version": "3.9.7"
  }
 },
 "nbformat": 4,
 "nbformat_minor": 4
}
